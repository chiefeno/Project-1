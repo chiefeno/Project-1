{
 "cells": [
  {
   "cell_type": "markdown",
   "metadata": {},
   "source": [
    "# ![](https://ga-dash.s3.amazonaws.com/production/assets/logo-9f88ae6c9c3871690e33280fcf557f33.png) "
   ]
  },
  {
   "cell_type": "markdown",
   "metadata": {},
   "source": [
    "# Project 1: Standardized Test Analysis"
   ]
  },
  {
   "cell_type": "markdown",
   "metadata": {},
   "source": [
    "# Problem Statement\n",
    "\n",
    "College applications are a stressful process that each high school students need to go through if they want to pursue higher education. With all the requirements and actual work demanded from students, it's easy to be unsure or even a little bit lost.\n",
    "My job is to guide students, help them understand the process, especially when it comes to standardized tests (SAT and ACT).\n",
    "Based on aquired data and a thorough analysis, I'll tell the students what grades they need to obtain and which are the ideal colleges they should apply to according to the majors they pick.\n",
    "\n",
    "\n",
    "\n",
    "\n",
    "\n",
    "\n"
   ]
  },
  {
   "cell_type": "markdown",
   "metadata": {},
   "source": [
    "# Contents:\n",
    "- Background\n",
    "- Data Import & Cleaning\n",
    "- Exploratory Data Analysis\n",
    "- Data Visualization\n",
    "- Conclusions and Recommendations"
   ]
  },
  {
   "cell_type": "markdown",
   "metadata": {},
   "source": [
    "# Background\n",
    "The SAT and ACT are standardized tests that many colleges and universities in the United States require for their admissions process. This score is used along with other materials such as grade point average (GPA) and essay responses to determine whether or not a potential student will be accepted to the university.\n",
    "\n",
    "The SAT has two sections of the test: Evidence-Based Reading and Writing and Math (source). The ACT has 4 sections: English, Mathematics, Reading, and Science, with an additional optional writing section (source). They have different score ranges, which you can read more about on their websites or additional outside sources (a quick Google search will help you understand the scores for each test):\n",
    "\n",
    "SAT\n",
    "ACT\n",
    "Standardized tests have long been a controversial topic for students, administrators, and legislators. Since the 1940's, an increasing number of colleges have been using scores from sudents' performances on tests like the SAT and the ACT as a measure for college readiness and aptitude (source). Supporters of these tests argue that these scores can be used as an objective measure to determine college admittance. Opponents of these tests claim that these tests are not accurate measures of students potential or ability and serve as an inequitable barrier to entry. Lately, more and more schools are opting to drop the SAT/ACT requirement for their Fall 2021 applications."
   ]
  },
  {
   "cell_type": "markdown",
   "metadata": {},
   "source": [
    "# Data\n",
    "\n",
    "- sat_act_by_college.csv: Ranges of Accepted ACT & SAT Scores by Colleges\n",
    "- sat_2019_by_intended_college_major.csv : A list of college majors, the number of applicants and their average SAT scores\n"
   ]
  },
  {
   "cell_type": "markdown",
   "metadata": {},
   "source": [
    "The sat_2019 file is the participation rate and SAT scores by states in the year 2019."
   ]
  },
  {
   "cell_type": "markdown",
   "metadata": {},
   "source": [
    "The sat_act_by_college file provide a list of colleges and their application policies, if the tests are optional, their number of applicants and their acceptance rate. It also provide each college 25th and 75th percentile for both the SAT and ACT."
   ]
  },
  {
   "cell_type": "markdown",
   "metadata": {},
   "source": [
    "# Coding Challenge"
   ]
  },
  {
   "cell_type": "markdown",
   "metadata": {},
   "source": [
    "1. A function to calculate the mean :"
   ]
  },
  {
   "cell_type": "code",
   "execution_count": 1,
   "metadata": {},
   "outputs": [],
   "source": [
    "def mean_function(lst):\n",
    "    mean = sum(lst)/len(lst)\n",
    "    return mean "
   ]
  },
  {
   "cell_type": "markdown",
   "metadata": {},
   "source": [
    "I then test the function created above:"
   ]
  },
  {
   "cell_type": "code",
   "execution_count": 2,
   "metadata": {},
   "outputs": [],
   "source": [
    "some_integers = [8, 15, 4, 32, 25]"
   ]
  },
  {
   "cell_type": "code",
   "execution_count": 3,
   "metadata": {},
   "outputs": [
    {
     "data": {
      "text/plain": [
       "16.8"
      ]
     },
     "execution_count": 3,
     "metadata": {},
     "output_type": "execute_result"
    }
   ],
   "source": [
    "mean_function(some_integers)"
   ]
  },
  {
   "cell_type": "markdown",
   "metadata": {},
   "source": [
    "2. A function to calculate the standard deviation :"
   ]
  },
  {
   "cell_type": "code",
   "execution_count": 4,
   "metadata": {},
   "outputs": [],
   "source": [
    "def standard_dev(numbers):\n",
    "    mean = sum(numbers)/len(numbers)\n",
    "    before_sum = [((i - mean)**2) for i in numbers]\n",
    "    after_sum = sum(before_sum)\n",
    "    div_after_sum = after_sum / len(numbers)\n",
    "    std = div_after_sum ** 0.5\n",
    "    return std"
   ]
  },
  {
   "cell_type": "markdown",
   "metadata": {},
   "source": [
    "Let me test the standard_dev function:"
   ]
  },
  {
   "cell_type": "code",
   "execution_count": 5,
   "metadata": {},
   "outputs": [
    {
     "data": {
      "text/plain": [
       "10.419213022104886"
      ]
     },
     "execution_count": 5,
     "metadata": {},
     "output_type": "execute_result"
    }
   ],
   "source": [
    "standard_dev(some_integers)"
   ]
  },
  {
   "cell_type": "markdown",
   "metadata": {},
   "source": [
    "3. A data cleaning function :"
   ]
  },
  {
   "cell_type": "code",
   "execution_count": 6,
   "metadata": {},
   "outputs": [],
   "source": [
    "def clean_data(string):\n",
    "    new_format = (float(string.replace('%','')))/100\n",
    "    return new_format"
   ]
  },
  {
   "cell_type": "markdown",
   "metadata": {},
   "source": [
    "Let's test the clean data function"
   ]
  },
  {
   "cell_type": "code",
   "execution_count": 7,
   "metadata": {},
   "outputs": [
    {
     "data": {
      "text/plain": [
       "0.18"
      ]
     },
     "execution_count": 7,
     "metadata": {},
     "output_type": "execute_result"
    }
   ],
   "source": [
    "clean_data('18%')"
   ]
  },
  {
   "cell_type": "markdown",
   "metadata": {},
   "source": [
    "# Data Import & Cleaning"
   ]
  },
  {
   "cell_type": "markdown",
   "metadata": {},
   "source": [
    "The first step is to import and read the data"
   ]
  },
  {
   "cell_type": "code",
   "execution_count": 8,
   "metadata": {},
   "outputs": [],
   "source": [
    "import numpy as np\n",
    "import pandas as pd\n",
    "import matplotlib.pyplot as plt\n",
    "import seaborn as sns"
   ]
  },
  {
   "cell_type": "markdown",
   "metadata": {},
   "source": [
    "The first dataframe I work on is the sat_act_by_college.csv"
   ]
  },
  {
   "cell_type": "code",
   "execution_count": 9,
   "metadata": {},
   "outputs": [],
   "source": [
    "college_set = pd.read_csv('data/sat_act_by_college.csv')"
   ]
  },
  {
   "cell_type": "code",
   "execution_count": 10,
   "metadata": {},
   "outputs": [
    {
     "data": {
      "text/html": [
       "<div>\n",
       "<style scoped>\n",
       "    .dataframe tbody tr th:only-of-type {\n",
       "        vertical-align: middle;\n",
       "    }\n",
       "\n",
       "    .dataframe tbody tr th {\n",
       "        vertical-align: top;\n",
       "    }\n",
       "\n",
       "    .dataframe thead th {\n",
       "        text-align: right;\n",
       "    }\n",
       "</style>\n",
       "<table border=\"1\" class=\"dataframe\">\n",
       "  <thead>\n",
       "    <tr style=\"text-align: right;\">\n",
       "      <th></th>\n",
       "      <th>School</th>\n",
       "      <th>Test Optional?</th>\n",
       "      <th>Applies to Class Year(s)</th>\n",
       "      <th>Policy Details</th>\n",
       "      <th>Number of Applicants</th>\n",
       "      <th>Accept Rate</th>\n",
       "      <th>SAT Total 25th-75th Percentile</th>\n",
       "      <th>ACT Total 25th-75th Percentile</th>\n",
       "    </tr>\n",
       "  </thead>\n",
       "  <tbody>\n",
       "    <tr>\n",
       "      <th>0</th>\n",
       "      <td>Stanford University</td>\n",
       "      <td>Yes</td>\n",
       "      <td>2021</td>\n",
       "      <td>Stanford has adopted a one-year test optional ...</td>\n",
       "      <td>47452</td>\n",
       "      <td>4.3%</td>\n",
       "      <td>1440-1570</td>\n",
       "      <td>32-35</td>\n",
       "    </tr>\n",
       "    <tr>\n",
       "      <th>1</th>\n",
       "      <td>Harvard College</td>\n",
       "      <td>Yes</td>\n",
       "      <td>2021</td>\n",
       "      <td>Harvard has adopted a one-year test optional p...</td>\n",
       "      <td>42749</td>\n",
       "      <td>4.7%</td>\n",
       "      <td>1460-1580</td>\n",
       "      <td>33-35</td>\n",
       "    </tr>\n",
       "    <tr>\n",
       "      <th>2</th>\n",
       "      <td>Princeton University</td>\n",
       "      <td>Yes</td>\n",
       "      <td>2021</td>\n",
       "      <td>Princeton has adopted a one-year test optional...</td>\n",
       "      <td>35370</td>\n",
       "      <td>5.5%</td>\n",
       "      <td>1440-1570</td>\n",
       "      <td>32-35</td>\n",
       "    </tr>\n",
       "    <tr>\n",
       "      <th>3</th>\n",
       "      <td>Columbia University</td>\n",
       "      <td>Yes</td>\n",
       "      <td>2021</td>\n",
       "      <td>Columbia has adopted a one-year test optional ...</td>\n",
       "      <td>40203</td>\n",
       "      <td>5.5%</td>\n",
       "      <td>1450-1560</td>\n",
       "      <td>33-35</td>\n",
       "    </tr>\n",
       "    <tr>\n",
       "      <th>4</th>\n",
       "      <td>Yale University</td>\n",
       "      <td>Yes</td>\n",
       "      <td>2021</td>\n",
       "      <td>Yale has adopted a one-year test optional poli...</td>\n",
       "      <td>36844</td>\n",
       "      <td>6.1%</td>\n",
       "      <td>1460-1570</td>\n",
       "      <td>33-35</td>\n",
       "    </tr>\n",
       "  </tbody>\n",
       "</table>\n",
       "</div>"
      ],
      "text/plain": [
       "                 School Test Optional? Applies to Class Year(s)  \\\n",
       "0   Stanford University            Yes                     2021   \n",
       "1       Harvard College            Yes                     2021   \n",
       "2  Princeton University            Yes                     2021   \n",
       "3   Columbia University            Yes                     2021   \n",
       "4       Yale University            Yes                     2021   \n",
       "\n",
       "                                      Policy Details  Number of Applicants  \\\n",
       "0  Stanford has adopted a one-year test optional ...                 47452   \n",
       "1  Harvard has adopted a one-year test optional p...                 42749   \n",
       "2  Princeton has adopted a one-year test optional...                 35370   \n",
       "3  Columbia has adopted a one-year test optional ...                 40203   \n",
       "4  Yale has adopted a one-year test optional poli...                 36844   \n",
       "\n",
       "  Accept Rate SAT Total 25th-75th Percentile ACT Total 25th-75th Percentile  \n",
       "0        4.3%                      1440-1570                          32-35  \n",
       "1        4.7%                      1460-1580                          33-35  \n",
       "2        5.5%                      1440-1570                          32-35  \n",
       "3        5.5%                      1450-1560                          33-35  \n",
       "4        6.1%                      1460-1570                          33-35  "
      ]
     },
     "execution_count": 10,
     "metadata": {},
     "output_type": "execute_result"
    }
   ],
   "source": [
    "college_set.head(5)"
   ]
  },
  {
   "cell_type": "markdown",
   "metadata": {},
   "source": [
    "I check for missing values"
   ]
  },
  {
   "cell_type": "code",
   "execution_count": 11,
   "metadata": {},
   "outputs": [
    {
     "data": {
      "text/plain": [
       "School                             0\n",
       "Test Optional?                     0\n",
       "Applies to Class Year(s)          26\n",
       "Policy Details                     0\n",
       "Number of Applicants               0\n",
       "Accept Rate                        0\n",
       "SAT Total 25th-75th Percentile     0\n",
       "ACT Total 25th-75th Percentile     0\n",
       "dtype: int64"
      ]
     },
     "execution_count": 11,
     "metadata": {},
     "output_type": "execute_result"
    }
   ],
   "source": [
    "college_set.isnull().sum()"
   ]
  },
  {
   "cell_type": "markdown",
   "metadata": {},
   "source": [
    "26 missing values for the 'Applies to class year(s) columns'"
   ]
  },
  {
   "cell_type": "markdown",
   "metadata": {},
   "source": [
    "I change the columns names to use the isunique method. I want to see the different values in that column containing missing values"
   ]
  },
  {
   "cell_type": "code",
   "execution_count": 12,
   "metadata": {},
   "outputs": [
    {
     "data": {
      "text/plain": [
       "Index(['school', 'test_optional?', 'applies_to_class_year(s)',\n",
       "       'policy_details', 'number_of_applicants', 'accept_rate',\n",
       "       'sat_total_25th-75th_percentile', 'act_total_25th-75th_percentile'],\n",
       "      dtype='object')"
      ]
     },
     "execution_count": 12,
     "metadata": {},
     "output_type": "execute_result"
    }
   ],
   "source": [
    "new_columns = {str(col) : str(col).lower().replace(' ', '_') for col in college_set.columns}   \n",
    "\n",
    "college_set.rename(columns= new_columns, inplace=True)\n",
    "\n",
    "college_set.columns"
   ]
  },
  {
   "cell_type": "markdown",
   "metadata": {},
   "source": [
    "I still got some special characters that I want to remove "
   ]
  },
  {
   "cell_type": "code",
   "execution_count": 13,
   "metadata": {},
   "outputs": [],
   "source": [
    "college_set.rename(columns = {'test optional?':'test_optional',\n",
    "                              'applies_to_class_year(s)': 'applies_to_class_years',\n",
    "                        'sat_total_25th-75th_percentile': 'sat_total_25th_75th_percentile',\n",
    "                        'act_total_25th-75th_percentile': 'act_total_25th_75th_percentile'} \n",
    "                   , inplace = True)\n",
    "                        \n",
    "                     "
   ]
  },
  {
   "cell_type": "markdown",
   "metadata": {},
   "source": [
    "I still have a question mark for the test optional? column; I realize my mistake and fix the code "
   ]
  },
  {
   "cell_type": "code",
   "execution_count": 14,
   "metadata": {},
   "outputs": [],
   "source": [
    "college_set.rename( columns = {'test_optional?':'test_optional'},\\\n",
    "                   inplace = True)"
   ]
  },
  {
   "cell_type": "markdown",
   "metadata": {},
   "source": [
    "The names of all columns are lowercased and the space has been replaced by an underscore"
   ]
  },
  {
   "cell_type": "markdown",
   "metadata": {},
   "source": [
    "Now I can check the unique values of the applies_to_class_years column"
   ]
  },
  {
   "cell_type": "code",
   "execution_count": 15,
   "metadata": {},
   "outputs": [
    {
     "data": {
      "text/plain": [
       "array(['2021', '2021 2022', 'All / Permanent Policy',\n",
       "       '2021 2022 2023 2024', '2021 2022 2023',\n",
       "       '2021 2022 2023 2024 2025', nan], dtype=object)"
      ]
     },
     "execution_count": 15,
     "metadata": {},
     "output_type": "execute_result"
    }
   ],
   "source": [
    "college_set.applies_to_class_years.unique()"
   ]
  },
  {
   "cell_type": "markdown",
   "metadata": {},
   "source": [
    "2021 is not a the unique value but I can deduct that the missing values could be replaced by 2021 because all the other values start at least with that year"
   ]
  },
  {
   "cell_type": "code",
   "execution_count": 16,
   "metadata": {},
   "outputs": [],
   "source": [
    "college_set = college_set.fillna(2021)"
   ]
  },
  {
   "cell_type": "code",
   "execution_count": 17,
   "metadata": {
    "scrolled": true
   },
   "outputs": [
    {
     "data": {
      "text/plain": [
       "school                            0\n",
       "test_optional                     0\n",
       "applies_to_class_years            0\n",
       "policy_details                    0\n",
       "number_of_applicants              0\n",
       "accept_rate                       0\n",
       "sat_total_25th_75th_percentile    0\n",
       "act_total_25th_75th_percentile    0\n",
       "dtype: int64"
      ]
     },
     "execution_count": 17,
     "metadata": {},
     "output_type": "execute_result"
    }
   ],
   "source": [
    "college_set.isnull().sum()"
   ]
  },
  {
   "cell_type": "markdown",
   "metadata": {},
   "source": [
    "There are no other null values. "
   ]
  },
  {
   "cell_type": "markdown",
   "metadata": {},
   "source": [
    "There are applies_to_class_years values equal to 'All/Permanent policy' and some equal\n",
    "'2021 2022 2023 2024' or '2021 2022 2023'. I assume that if they are recorded in the dataframe \n",
    "they must apply to 2021. I can change all values in applies_to_class_years to 2021."
   ]
  },
  {
   "cell_type": "code",
   "execution_count": 18,
   "metadata": {},
   "outputs": [],
   "source": [
    "college_set['applies_to_class_years'] = 2021"
   ]
  },
  {
   "cell_type": "markdown",
   "metadata": {},
   "source": [
    "I check the type of each columns "
   ]
  },
  {
   "cell_type": "code",
   "execution_count": 19,
   "metadata": {},
   "outputs": [
    {
     "data": {
      "text/plain": [
       "school                            object\n",
       "test_optional                     object\n",
       "applies_to_class_years             int64\n",
       "policy_details                    object\n",
       "number_of_applicants               int64\n",
       "accept_rate                       object\n",
       "sat_total_25th_75th_percentile    object\n",
       "act_total_25th_75th_percentile    object\n",
       "dtype: object"
      ]
     },
     "execution_count": 19,
     "metadata": {},
     "output_type": "execute_result"
    }
   ],
   "source": [
    "college_set.dtypes"
   ]
  },
  {
   "cell_type": "markdown",
   "metadata": {},
   "source": [
    "I change the accept rate type from strings with '%' to percentage in float "
   ]
  },
  {
   "cell_type": "code",
   "execution_count": 20,
   "metadata": {},
   "outputs": [],
   "source": [
    "college_set['accept_rate']\\\n",
    ".replace('%','',regex=True, inplace = True)"
   ]
  },
  {
   "cell_type": "code",
   "execution_count": 21,
   "metadata": {},
   "outputs": [],
   "source": [
    "college_set['accept_rate'] = college_set['accept_rate']\\\n",
    ".astype(float)"
   ]
  },
  {
   "cell_type": "code",
   "execution_count": 22,
   "metadata": {},
   "outputs": [],
   "source": [
    "college_set['accept_rate'] = college_set['accept_rate']\\\n",
    ".div(100)"
   ]
  },
  {
   "cell_type": "code",
   "execution_count": 23,
   "metadata": {},
   "outputs": [
    {
     "data": {
      "text/html": [
       "<div>\n",
       "<style scoped>\n",
       "    .dataframe tbody tr th:only-of-type {\n",
       "        vertical-align: middle;\n",
       "    }\n",
       "\n",
       "    .dataframe tbody tr th {\n",
       "        vertical-align: top;\n",
       "    }\n",
       "\n",
       "    .dataframe thead th {\n",
       "        text-align: right;\n",
       "    }\n",
       "</style>\n",
       "<table border=\"1\" class=\"dataframe\">\n",
       "  <thead>\n",
       "    <tr style=\"text-align: right;\">\n",
       "      <th></th>\n",
       "      <th>school</th>\n",
       "      <th>test_optional</th>\n",
       "      <th>applies_to_class_years</th>\n",
       "      <th>policy_details</th>\n",
       "      <th>number_of_applicants</th>\n",
       "      <th>accept_rate</th>\n",
       "      <th>sat_total_25th_75th_percentile</th>\n",
       "      <th>act_total_25th_75th_percentile</th>\n",
       "    </tr>\n",
       "  </thead>\n",
       "  <tbody>\n",
       "    <tr>\n",
       "      <th>0</th>\n",
       "      <td>Stanford University</td>\n",
       "      <td>Yes</td>\n",
       "      <td>2021</td>\n",
       "      <td>Stanford has adopted a one-year test optional ...</td>\n",
       "      <td>47452</td>\n",
       "      <td>0.043</td>\n",
       "      <td>1440-1570</td>\n",
       "      <td>32-35</td>\n",
       "    </tr>\n",
       "    <tr>\n",
       "      <th>1</th>\n",
       "      <td>Harvard College</td>\n",
       "      <td>Yes</td>\n",
       "      <td>2021</td>\n",
       "      <td>Harvard has adopted a one-year test optional p...</td>\n",
       "      <td>42749</td>\n",
       "      <td>0.047</td>\n",
       "      <td>1460-1580</td>\n",
       "      <td>33-35</td>\n",
       "    </tr>\n",
       "    <tr>\n",
       "      <th>2</th>\n",
       "      <td>Princeton University</td>\n",
       "      <td>Yes</td>\n",
       "      <td>2021</td>\n",
       "      <td>Princeton has adopted a one-year test optional...</td>\n",
       "      <td>35370</td>\n",
       "      <td>0.055</td>\n",
       "      <td>1440-1570</td>\n",
       "      <td>32-35</td>\n",
       "    </tr>\n",
       "    <tr>\n",
       "      <th>3</th>\n",
       "      <td>Columbia University</td>\n",
       "      <td>Yes</td>\n",
       "      <td>2021</td>\n",
       "      <td>Columbia has adopted a one-year test optional ...</td>\n",
       "      <td>40203</td>\n",
       "      <td>0.055</td>\n",
       "      <td>1450-1560</td>\n",
       "      <td>33-35</td>\n",
       "    </tr>\n",
       "    <tr>\n",
       "      <th>4</th>\n",
       "      <td>Yale University</td>\n",
       "      <td>Yes</td>\n",
       "      <td>2021</td>\n",
       "      <td>Yale has adopted a one-year test optional poli...</td>\n",
       "      <td>36844</td>\n",
       "      <td>0.061</td>\n",
       "      <td>1460-1570</td>\n",
       "      <td>33-35</td>\n",
       "    </tr>\n",
       "  </tbody>\n",
       "</table>\n",
       "</div>"
      ],
      "text/plain": [
       "                 school test_optional  applies_to_class_years  \\\n",
       "0   Stanford University           Yes                    2021   \n",
       "1       Harvard College           Yes                    2021   \n",
       "2  Princeton University           Yes                    2021   \n",
       "3   Columbia University           Yes                    2021   \n",
       "4       Yale University           Yes                    2021   \n",
       "\n",
       "                                      policy_details  number_of_applicants  \\\n",
       "0  Stanford has adopted a one-year test optional ...                 47452   \n",
       "1  Harvard has adopted a one-year test optional p...                 42749   \n",
       "2  Princeton has adopted a one-year test optional...                 35370   \n",
       "3  Columbia has adopted a one-year test optional ...                 40203   \n",
       "4  Yale has adopted a one-year test optional poli...                 36844   \n",
       "\n",
       "   accept_rate sat_total_25th_75th_percentile act_total_25th_75th_percentile  \n",
       "0        0.043                      1440-1570                          32-35  \n",
       "1        0.047                      1460-1580                          33-35  \n",
       "2        0.055                      1440-1570                          32-35  \n",
       "3        0.055                      1450-1560                          33-35  \n",
       "4        0.061                      1460-1570                          33-35  "
      ]
     },
     "execution_count": 23,
     "metadata": {},
     "output_type": "execute_result"
    }
   ],
   "source": [
    "college_set.head(5)"
   ]
  },
  {
   "cell_type": "markdown",
   "metadata": {},
   "source": [
    "The accept rate format is correct "
   ]
  },
  {
   "cell_type": "markdown",
   "metadata": {},
   "source": [
    "Now I format the SAT and ACT percentile columns by separating them into two different columns for each and turning them into float type. To separate the 25th and 75th percentile columns; I create two temporary dataframes: sat_percentile_dividersat_percentile_divider and act_percentile_divider"
   ]
  },
  {
   "cell_type": "code",
   "execution_count": 24,
   "metadata": {},
   "outputs": [],
   "source": [
    "sat_percentile_divider = college_set['sat_total_25th_75th_percentile']\\\n",
    ".str.split('-', expand=True)"
   ]
  },
  {
   "cell_type": "code",
   "execution_count": 25,
   "metadata": {
    "scrolled": true
   },
   "outputs": [
    {
     "data": {
      "text/html": [
       "<div>\n",
       "<style scoped>\n",
       "    .dataframe tbody tr th:only-of-type {\n",
       "        vertical-align: middle;\n",
       "    }\n",
       "\n",
       "    .dataframe tbody tr th {\n",
       "        vertical-align: top;\n",
       "    }\n",
       "\n",
       "    .dataframe thead th {\n",
       "        text-align: right;\n",
       "    }\n",
       "</style>\n",
       "<table border=\"1\" class=\"dataframe\">\n",
       "  <thead>\n",
       "    <tr style=\"text-align: right;\">\n",
       "      <th></th>\n",
       "      <th>0</th>\n",
       "      <th>1</th>\n",
       "      <th>2</th>\n",
       "    </tr>\n",
       "  </thead>\n",
       "  <tbody>\n",
       "    <tr>\n",
       "      <th>0</th>\n",
       "      <td>1440</td>\n",
       "      <td>1570</td>\n",
       "      <td>None</td>\n",
       "    </tr>\n",
       "    <tr>\n",
       "      <th>1</th>\n",
       "      <td>1460</td>\n",
       "      <td>1580</td>\n",
       "      <td>None</td>\n",
       "    </tr>\n",
       "    <tr>\n",
       "      <th>2</th>\n",
       "      <td>1440</td>\n",
       "      <td>1570</td>\n",
       "      <td>None</td>\n",
       "    </tr>\n",
       "    <tr>\n",
       "      <th>3</th>\n",
       "      <td>1450</td>\n",
       "      <td>1560</td>\n",
       "      <td>None</td>\n",
       "    </tr>\n",
       "    <tr>\n",
       "      <th>4</th>\n",
       "      <td>1460</td>\n",
       "      <td>1570</td>\n",
       "      <td>None</td>\n",
       "    </tr>\n",
       "  </tbody>\n",
       "</table>\n",
       "</div>"
      ],
      "text/plain": [
       "      0     1     2\n",
       "0  1440  1570  None\n",
       "1  1460  1580  None\n",
       "2  1440  1570  None\n",
       "3  1450  1560  None\n",
       "4  1460  1570  None"
      ]
     },
     "execution_count": 25,
     "metadata": {},
     "output_type": "execute_result"
    }
   ],
   "source": [
    "sat_percentile_divider.head()"
   ]
  },
  {
   "cell_type": "markdown",
   "metadata": {},
   "source": [
    "I change the column name of these divided columns before I join them to the big dataframe"
   ]
  },
  {
   "cell_type": "code",
   "execution_count": 26,
   "metadata": {},
   "outputs": [],
   "source": [
    "sat_percentile_divider.rename(columns = {0: 'sat_total_25th_percentile', \n",
    "                                         1: 'sat_total_75th_percentile'},\n",
    "                              inplace=True)"
   ]
  },
  {
   "cell_type": "markdown",
   "metadata": {},
   "source": [
    "Let's remove the column named 2"
   ]
  },
  {
   "cell_type": "code",
   "execution_count": 27,
   "metadata": {},
   "outputs": [],
   "source": [
    "sat_percentile_divider.drop(columns = 2, inplace= True)"
   ]
  },
  {
   "cell_type": "code",
   "execution_count": 28,
   "metadata": {},
   "outputs": [
    {
     "data": {
      "text/html": [
       "<div>\n",
       "<style scoped>\n",
       "    .dataframe tbody tr th:only-of-type {\n",
       "        vertical-align: middle;\n",
       "    }\n",
       "\n",
       "    .dataframe tbody tr th {\n",
       "        vertical-align: top;\n",
       "    }\n",
       "\n",
       "    .dataframe thead th {\n",
       "        text-align: right;\n",
       "    }\n",
       "</style>\n",
       "<table border=\"1\" class=\"dataframe\">\n",
       "  <thead>\n",
       "    <tr style=\"text-align: right;\">\n",
       "      <th></th>\n",
       "      <th>sat_total_25th_percentile</th>\n",
       "      <th>sat_total_75th_percentile</th>\n",
       "    </tr>\n",
       "  </thead>\n",
       "  <tbody>\n",
       "    <tr>\n",
       "      <th>0</th>\n",
       "      <td>1440</td>\n",
       "      <td>1570</td>\n",
       "    </tr>\n",
       "    <tr>\n",
       "      <th>1</th>\n",
       "      <td>1460</td>\n",
       "      <td>1580</td>\n",
       "    </tr>\n",
       "    <tr>\n",
       "      <th>2</th>\n",
       "      <td>1440</td>\n",
       "      <td>1570</td>\n",
       "    </tr>\n",
       "    <tr>\n",
       "      <th>3</th>\n",
       "      <td>1450</td>\n",
       "      <td>1560</td>\n",
       "    </tr>\n",
       "    <tr>\n",
       "      <th>4</th>\n",
       "      <td>1460</td>\n",
       "      <td>1570</td>\n",
       "    </tr>\n",
       "    <tr>\n",
       "      <th>...</th>\n",
       "      <td>...</td>\n",
       "      <td>...</td>\n",
       "    </tr>\n",
       "    <tr>\n",
       "      <th>411</th>\n",
       "      <td>950</td>\n",
       "      <td>1130</td>\n",
       "    </tr>\n",
       "    <tr>\n",
       "      <th>412</th>\n",
       "      <td>990</td>\n",
       "      <td>1180</td>\n",
       "    </tr>\n",
       "    <tr>\n",
       "      <th>413</th>\n",
       "      <td>1050</td>\n",
       "      <td>1270</td>\n",
       "    </tr>\n",
       "    <tr>\n",
       "      <th>414</th>\n",
       "      <td>1060</td>\n",
       "      <td>1280</td>\n",
       "    </tr>\n",
       "    <tr>\n",
       "      <th>415</th>\n",
       "      <td>820</td>\n",
       "      <td>1050</td>\n",
       "    </tr>\n",
       "  </tbody>\n",
       "</table>\n",
       "<p>416 rows × 2 columns</p>\n",
       "</div>"
      ],
      "text/plain": [
       "    sat_total_25th_percentile sat_total_75th_percentile\n",
       "0                        1440                      1570\n",
       "1                        1460                      1580\n",
       "2                        1440                      1570\n",
       "3                        1450                      1560\n",
       "4                        1460                      1570\n",
       "..                        ...                       ...\n",
       "411                       950                      1130\n",
       "412                       990                      1180\n",
       "413                      1050                      1270\n",
       "414                      1060                      1280\n",
       "415                       820                      1050\n",
       "\n",
       "[416 rows x 2 columns]"
      ]
     },
     "execution_count": 28,
     "metadata": {},
     "output_type": "execute_result"
    }
   ],
   "source": [
    "sat_percentile_divider"
   ]
  },
  {
   "cell_type": "markdown",
   "metadata": {},
   "source": [
    "let's change the type to float as well "
   ]
  },
  {
   "cell_type": "markdown",
   "metadata": {},
   "source": [
    "to do this I must get rid of a special character (\\u200b\\u200b)"
   ]
  },
  {
   "cell_type": "code",
   "execution_count": 29,
   "metadata": {},
   "outputs": [],
   "source": [
    "sat_percentile_divider.replace('(\\u200b\\u200b)',''\\\n",
    "                               ,regex=True, inplace = True)"
   ]
  },
  {
   "cell_type": "markdown",
   "metadata": {},
   "source": [
    "There is another special character  ''  that I need to remove to convert the data into float "
   ]
  },
  {
   "cell_type": "code",
   "execution_count": 30,
   "metadata": {},
   "outputs": [],
   "source": [
    " sat_percentile_divider = sat_percentile_divider[sat_percentile_divider\\\n",
    "                                                 ['sat_total_25th_percentile']\\\n",
    "                                                 != '']"
   ]
  },
  {
   "cell_type": "code",
   "execution_count": 31,
   "metadata": {},
   "outputs": [],
   "source": [
    " sat_percentile_divider = sat_percentile_divider[sat_percentile_divider\\\n",
    "                                                 ['sat_total_75th_percentile']\\\n",
    "                                                 != '']"
   ]
  },
  {
   "cell_type": "markdown",
   "metadata": {},
   "source": [
    "We finally can do the conversion "
   ]
  },
  {
   "cell_type": "code",
   "execution_count": 32,
   "metadata": {},
   "outputs": [],
   "source": [
    " sat_percentile_divider['sat_total_25th_percentile'] = sat_percentile_divider\\\n",
    "    ['sat_total_25th_percentile'].astype('float') "
   ]
  },
  {
   "cell_type": "code",
   "execution_count": 33,
   "metadata": {},
   "outputs": [],
   "source": [
    "sat_percentile_divider['sat_total_75th_percentile'] = sat_percentile_divider\\\n",
    "['sat_total_75th_percentile'].astype('float') "
   ]
  },
  {
   "cell_type": "markdown",
   "metadata": {},
   "source": [
    "Let's join this dataframe to the main dataframe college_set"
   ]
  },
  {
   "cell_type": "code",
   "execution_count": 34,
   "metadata": {},
   "outputs": [],
   "source": [
    "college_set = college_set.join(sat_percentile_divider)"
   ]
  },
  {
   "cell_type": "code",
   "execution_count": 35,
   "metadata": {},
   "outputs": [
    {
     "data": {
      "text/html": [
       "<div>\n",
       "<style scoped>\n",
       "    .dataframe tbody tr th:only-of-type {\n",
       "        vertical-align: middle;\n",
       "    }\n",
       "\n",
       "    .dataframe tbody tr th {\n",
       "        vertical-align: top;\n",
       "    }\n",
       "\n",
       "    .dataframe thead th {\n",
       "        text-align: right;\n",
       "    }\n",
       "</style>\n",
       "<table border=\"1\" class=\"dataframe\">\n",
       "  <thead>\n",
       "    <tr style=\"text-align: right;\">\n",
       "      <th></th>\n",
       "      <th>school</th>\n",
       "      <th>test_optional</th>\n",
       "      <th>applies_to_class_years</th>\n",
       "      <th>policy_details</th>\n",
       "      <th>number_of_applicants</th>\n",
       "      <th>accept_rate</th>\n",
       "      <th>sat_total_25th_75th_percentile</th>\n",
       "      <th>act_total_25th_75th_percentile</th>\n",
       "      <th>sat_total_25th_percentile</th>\n",
       "      <th>sat_total_75th_percentile</th>\n",
       "    </tr>\n",
       "  </thead>\n",
       "  <tbody>\n",
       "    <tr>\n",
       "      <th>0</th>\n",
       "      <td>Stanford University</td>\n",
       "      <td>Yes</td>\n",
       "      <td>2021</td>\n",
       "      <td>Stanford has adopted a one-year test optional ...</td>\n",
       "      <td>47452</td>\n",
       "      <td>0.043</td>\n",
       "      <td>1440-1570</td>\n",
       "      <td>32-35</td>\n",
       "      <td>1440.0</td>\n",
       "      <td>1570.0</td>\n",
       "    </tr>\n",
       "    <tr>\n",
       "      <th>1</th>\n",
       "      <td>Harvard College</td>\n",
       "      <td>Yes</td>\n",
       "      <td>2021</td>\n",
       "      <td>Harvard has adopted a one-year test optional p...</td>\n",
       "      <td>42749</td>\n",
       "      <td>0.047</td>\n",
       "      <td>1460-1580</td>\n",
       "      <td>33-35</td>\n",
       "      <td>1460.0</td>\n",
       "      <td>1580.0</td>\n",
       "    </tr>\n",
       "  </tbody>\n",
       "</table>\n",
       "</div>"
      ],
      "text/plain": [
       "                school test_optional  applies_to_class_years  \\\n",
       "0  Stanford University           Yes                    2021   \n",
       "1      Harvard College           Yes                    2021   \n",
       "\n",
       "                                      policy_details  number_of_applicants  \\\n",
       "0  Stanford has adopted a one-year test optional ...                 47452   \n",
       "1  Harvard has adopted a one-year test optional p...                 42749   \n",
       "\n",
       "   accept_rate sat_total_25th_75th_percentile act_total_25th_75th_percentile  \\\n",
       "0        0.043                      1440-1570                          32-35   \n",
       "1        0.047                      1460-1580                          33-35   \n",
       "\n",
       "   sat_total_25th_percentile  sat_total_75th_percentile  \n",
       "0                     1440.0                     1570.0  \n",
       "1                     1460.0                     1580.0  "
      ]
     },
     "execution_count": 35,
     "metadata": {},
     "output_type": "execute_result"
    }
   ],
   "source": [
    "college_set.head(2)"
   ]
  },
  {
   "cell_type": "markdown",
   "metadata": {},
   "source": [
    "As seen above; I have two new columns which are the SAT 25th and 75th percentile separated; I can now drop the SAT column where the percentile are combined."
   ]
  },
  {
   "cell_type": "code",
   "execution_count": 36,
   "metadata": {},
   "outputs": [],
   "source": [
    "college_set.drop(columns = 'sat_total_25th_75th_percentile',\\\n",
    "                 inplace=True)"
   ]
  },
  {
   "cell_type": "markdown",
   "metadata": {},
   "source": [
    "let's also delete sat_percentile_divider"
   ]
  },
  {
   "cell_type": "code",
   "execution_count": 37,
   "metadata": {},
   "outputs": [],
   "source": [
    "del sat_percentile_divider"
   ]
  },
  {
   "cell_type": "markdown",
   "metadata": {},
   "source": [
    "Let's repeat this entire process for the ACT percentile column. First separate it and then change the type to float with removal of special characters"
   ]
  },
  {
   "cell_type": "code",
   "execution_count": 38,
   "metadata": {},
   "outputs": [],
   "source": [
    "act_percentile_divider = college_set['act_total_25th_75th_percentile']\\\n",
    ".str.split('-', expand=True)"
   ]
  },
  {
   "cell_type": "markdown",
   "metadata": {},
   "source": [
    "Separated the column in two in a new dataframe"
   ]
  },
  {
   "cell_type": "markdown",
   "metadata": {},
   "source": [
    "I rename the columns"
   ]
  },
  {
   "cell_type": "code",
   "execution_count": 39,
   "metadata": {},
   "outputs": [],
   "source": [
    "act_percentile_divider.rename(columns = {0: 'act_total_25th_percentile',\n",
    "                                         1: 'act_total_75th_percentile' },\n",
    "                              inplace=True)"
   ]
  },
  {
   "cell_type": "markdown",
   "metadata": {},
   "source": [
    "I have renamed the columns; now I drop the column 2 "
   ]
  },
  {
   "cell_type": "code",
   "execution_count": 40,
   "metadata": {},
   "outputs": [],
   "source": [
    "act_percentile_divider.drop(columns = 2 , inplace = True)"
   ]
  },
  {
   "cell_type": "markdown",
   "metadata": {},
   "source": [
    "Now let's take care of the data type; I need to check if there are any special characters first "
   ]
  },
  {
   "cell_type": "code",
   "execution_count": 41,
   "metadata": {},
   "outputs": [
    {
     "data": {
      "text/plain": [
       "array(['32', '33', '35', '34', '31', '29', '27', '30', '28', '26', '',\n",
       "       '25', '22', '19', '15', '20', '24', '23', '21', '16', '17', '18',\n",
       "       '19.3'], dtype=object)"
      ]
     },
     "execution_count": 41,
     "metadata": {},
     "output_type": "execute_result"
    }
   ],
   "source": [
    "act_percentile_divider['act_total_25th_percentile'].unique()"
   ]
  },
  {
   "cell_type": "markdown",
   "metadata": {},
   "source": [
    "one value is equal to '' here; I remove it "
   ]
  },
  {
   "cell_type": "code",
   "execution_count": 42,
   "metadata": {},
   "outputs": [],
   "source": [
    "act_percentile_divider = act_percentile_divider[act_percentile_divider\\\n",
    "                                                ['act_total_75th_percentile'] != '']"
   ]
  },
  {
   "cell_type": "code",
   "execution_count": 43,
   "metadata": {},
   "outputs": [
    {
     "data": {
      "text/plain": [
       "array(['32', '33', '35', '34', '31', '29', '27', '30', '28', '26', '25',\n",
       "       '22', '19', '15', '20', '24', '23', '21', '16', '17', '18', '19.3'],\n",
       "      dtype=object)"
      ]
     },
     "execution_count": 43,
     "metadata": {},
     "output_type": "execute_result"
    }
   ],
   "source": [
    "act_percentile_divider['act_total_25th_percentile'].unique()"
   ]
  },
  {
   "cell_type": "markdown",
   "metadata": {},
   "source": [
    "No more '' !"
   ]
  },
  {
   "cell_type": "markdown",
   "metadata": {},
   "source": [
    "Let's convert the two ACT columns into float "
   ]
  },
  {
   "cell_type": "code",
   "execution_count": 44,
   "metadata": {},
   "outputs": [],
   "source": [
    "act_percentile_divider['act_total_25th_percentile'] =  act_percentile_divider\\\n",
    "['act_total_25th_percentile'].astype('float') "
   ]
  },
  {
   "cell_type": "code",
   "execution_count": 45,
   "metadata": {},
   "outputs": [],
   "source": [
    "act_percentile_divider['act_total_75th_percentile'] =  act_percentile_divider\\\n",
    "['act_total_75th_percentile'].astype('float') "
   ]
  },
  {
   "cell_type": "markdown",
   "metadata": {},
   "source": [
    "Let's join this ACT divider dataframe to the main dataframe college_set"
   ]
  },
  {
   "cell_type": "code",
   "execution_count": 46,
   "metadata": {},
   "outputs": [],
   "source": [
    "college_set = college_set.join(act_percentile_divider)"
   ]
  },
  {
   "cell_type": "markdown",
   "metadata": {},
   "source": [
    "Now that we have the separated act percentile columns, let's drop the act combined percentile column "
   ]
  },
  {
   "cell_type": "code",
   "execution_count": 47,
   "metadata": {},
   "outputs": [],
   "source": [
    "college_set.drop(columns = 'act_total_25th_75th_percentile',\\\n",
    "                 inplace = True)"
   ]
  },
  {
   "cell_type": "markdown",
   "metadata": {},
   "source": [
    "let's delete act_percentile_divider:"
   ]
  },
  {
   "cell_type": "code",
   "execution_count": 48,
   "metadata": {},
   "outputs": [],
   "source": [
    "del act_percentile_divider"
   ]
  },
  {
   "cell_type": "code",
   "execution_count": 49,
   "metadata": {},
   "outputs": [
    {
     "data": {
      "text/plain": [
       "school                        object\n",
       "test_optional                 object\n",
       "applies_to_class_years         int64\n",
       "policy_details                object\n",
       "number_of_applicants           int64\n",
       "accept_rate                  float64\n",
       "sat_total_25th_percentile    float64\n",
       "sat_total_75th_percentile    float64\n",
       "act_total_25th_percentile    float64\n",
       "act_total_75th_percentile    float64\n",
       "dtype: object"
      ]
     },
     "execution_count": 49,
     "metadata": {},
     "output_type": "execute_result"
    }
   ],
   "source": [
    "college_set.dtypes"
   ]
  },
  {
   "cell_type": "markdown",
   "metadata": {},
   "source": [
    "Let's turn the test optional column into a boolean"
   ]
  },
  {
   "cell_type": "code",
   "execution_count": 50,
   "metadata": {},
   "outputs": [],
   "source": [
    "college_set['test_is_optional'] = np.where(college_set['test_optional']\\\n",
    "                                           .str.contains('Yes'), 1, 0)"
   ]
  },
  {
   "cell_type": "markdown",
   "metadata": {},
   "source": [
    "Now there are two columns with test optional; let's get rid of the one with string to avoid redundancy "
   ]
  },
  {
   "cell_type": "code",
   "execution_count": 51,
   "metadata": {},
   "outputs": [],
   "source": [
    "college_set.drop(columns = 'test_optional', inplace = True)"
   ]
  },
  {
   "cell_type": "code",
   "execution_count": 52,
   "metadata": {},
   "outputs": [
    {
     "data": {
      "text/plain": [
       "school                       0\n",
       "applies_to_class_years       0\n",
       "policy_details               0\n",
       "number_of_applicants         0\n",
       "accept_rate                  0\n",
       "sat_total_25th_percentile    6\n",
       "sat_total_75th_percentile    6\n",
       "act_total_25th_percentile    6\n",
       "act_total_75th_percentile    6\n",
       "test_is_optional             0\n",
       "dtype: int64"
      ]
     },
     "execution_count": 52,
     "metadata": {},
     "output_type": "execute_result"
    }
   ],
   "source": [
    "college_set.isnull().sum()"
   ]
  },
  {
   "cell_type": "markdown",
   "metadata": {},
   "source": [
    "As seen above; There are some missing values for the sat and act percentile columns. I drop these rows for conveniency "
   ]
  },
  {
   "cell_type": "code",
   "execution_count": 53,
   "metadata": {},
   "outputs": [],
   "source": [
    "college_set.dropna(inplace=True)"
   ]
  },
  {
   "cell_type": "markdown",
   "metadata": {},
   "source": [
    "Now let's save this dataframe to a csv file "
   ]
  },
  {
   "cell_type": "code",
   "execution_count": 54,
   "metadata": {},
   "outputs": [],
   "source": [
    "college_set.to_csv('data/college_sat_new.csv')"
   ]
  },
  {
   "cell_type": "markdown",
   "metadata": {},
   "source": [
    "Now let's clean the second dataframe !"
   ]
  },
  {
   "cell_type": "markdown",
   "metadata": {},
   "source": [
    "first let's import and read it"
   ]
  },
  {
   "cell_type": "code",
   "execution_count": 55,
   "metadata": {},
   "outputs": [],
   "source": [
    "intended_majors = pd.read_csv('data/sat_2019_by_intended_college_major.csv')"
   ]
  },
  {
   "cell_type": "code",
   "execution_count": 56,
   "metadata": {},
   "outputs": [
    {
     "data": {
      "text/html": [
       "<div>\n",
       "<style scoped>\n",
       "    .dataframe tbody tr th:only-of-type {\n",
       "        vertical-align: middle;\n",
       "    }\n",
       "\n",
       "    .dataframe tbody tr th {\n",
       "        vertical-align: top;\n",
       "    }\n",
       "\n",
       "    .dataframe thead th {\n",
       "        text-align: right;\n",
       "    }\n",
       "</style>\n",
       "<table border=\"1\" class=\"dataframe\">\n",
       "  <thead>\n",
       "    <tr style=\"text-align: right;\">\n",
       "      <th></th>\n",
       "      <th>IntendedCollegeMajor</th>\n",
       "      <th>TestTakers</th>\n",
       "      <th>Percent</th>\n",
       "      <th>Total</th>\n",
       "      <th>ReadingWriting</th>\n",
       "      <th>Math</th>\n",
       "    </tr>\n",
       "  </thead>\n",
       "  <tbody>\n",
       "    <tr>\n",
       "      <th>0</th>\n",
       "      <td>Agriculture, AgricultureOperations, and Relate...</td>\n",
       "      <td>24,913</td>\n",
       "      <td>1%</td>\n",
       "      <td>977</td>\n",
       "      <td>496</td>\n",
       "      <td>481</td>\n",
       "    </tr>\n",
       "    <tr>\n",
       "      <th>1</th>\n",
       "      <td>Architecture and Related Services</td>\n",
       "      <td>28,988</td>\n",
       "      <td>2%</td>\n",
       "      <td>1047</td>\n",
       "      <td>520</td>\n",
       "      <td>527</td>\n",
       "    </tr>\n",
       "    <tr>\n",
       "      <th>2</th>\n",
       "      <td>Area, Ethnic, Cultural, and Gender Studies</td>\n",
       "      <td>2,629</td>\n",
       "      <td>0%</td>\n",
       "      <td>1040</td>\n",
       "      <td>536</td>\n",
       "      <td>504</td>\n",
       "    </tr>\n",
       "    <tr>\n",
       "      <th>3</th>\n",
       "      <td>Biological and Biomedical Sciences</td>\n",
       "      <td>155,834</td>\n",
       "      <td>8%</td>\n",
       "      <td>1139</td>\n",
       "      <td>572</td>\n",
       "      <td>566</td>\n",
       "    </tr>\n",
       "    <tr>\n",
       "      <th>4</th>\n",
       "      <td>Business, Management, Marketing, and Related S...</td>\n",
       "      <td>221,523</td>\n",
       "      <td>12%</td>\n",
       "      <td>1072</td>\n",
       "      <td>534</td>\n",
       "      <td>537</td>\n",
       "    </tr>\n",
       "  </tbody>\n",
       "</table>\n",
       "</div>"
      ],
      "text/plain": [
       "                                IntendedCollegeMajor TestTakers Percent  \\\n",
       "0  Agriculture, AgricultureOperations, and Relate...     24,913      1%   \n",
       "1                  Architecture and Related Services     28,988      2%   \n",
       "2         Area, Ethnic, Cultural, and Gender Studies      2,629      0%   \n",
       "3                 Biological and Biomedical Sciences    155,834      8%   \n",
       "4  Business, Management, Marketing, and Related S...    221,523     12%   \n",
       "\n",
       "   Total  ReadingWriting  Math  \n",
       "0    977             496   481  \n",
       "1   1047             520   527  \n",
       "2   1040             536   504  \n",
       "3   1139             572   566  \n",
       "4   1072             534   537  "
      ]
     },
     "execution_count": 56,
     "metadata": {},
     "output_type": "execute_result"
    }
   ],
   "source": [
    "intended_majors.head(5)"
   ]
  },
  {
   "cell_type": "markdown",
   "metadata": {},
   "source": [
    "is there any null values ? "
   ]
  },
  {
   "cell_type": "code",
   "execution_count": 57,
   "metadata": {},
   "outputs": [
    {
     "data": {
      "text/plain": [
       "IntendedCollegeMajor    0\n",
       "TestTakers              0\n",
       "Percent                 0\n",
       "Total                   0\n",
       "ReadingWriting          0\n",
       "Math                    0\n",
       "dtype: int64"
      ]
     },
     "execution_count": 57,
     "metadata": {},
     "output_type": "execute_result"
    }
   ],
   "source": [
    "intended_majors.isnull().sum()"
   ]
  },
  {
   "cell_type": "markdown",
   "metadata": {},
   "source": [
    "apparently not ! let's check the data type !"
   ]
  },
  {
   "cell_type": "code",
   "execution_count": 58,
   "metadata": {},
   "outputs": [
    {
     "data": {
      "text/plain": [
       "IntendedCollegeMajor    object\n",
       "TestTakers              object\n",
       "Percent                 object\n",
       "Total                    int64\n",
       "ReadingWriting           int64\n",
       "Math                     int64\n",
       "dtype: object"
      ]
     },
     "execution_count": 58,
     "metadata": {},
     "output_type": "execute_result"
    }
   ],
   "source": [
    "intended_majors.dtypes"
   ]
  },
  {
   "cell_type": "markdown",
   "metadata": {},
   "source": [
    "Alright, the test takers column should be numerical; the percent should be float ! "
   ]
  },
  {
   "cell_type": "markdown",
   "metadata": {},
   "source": [
    "First let's change the columns names so everything is lowercased with no space"
   ]
  },
  {
   "cell_type": "code",
   "execution_count": 59,
   "metadata": {},
   "outputs": [],
   "source": [
    "intended_majors.rename( columns = {'IntendedCollegeMajor':'intended_college_major',\n",
    "                                   'TestTakers': 'test_takers', 'Percent':'percent',\n",
    "                                   'Total':'total', 'ReadingWriting': 'reading_writing',\n",
    "                                   'Math':'math'},\n",
    "                       inplace = True) \n",
    "                       "
   ]
  },
  {
   "cell_type": "markdown",
   "metadata": {},
   "source": [
    "New columns names !! Now let's do some conversion, first the test_takers:"
   ]
  },
  {
   "cell_type": "markdown",
   "metadata": {},
   "source": [
    "to convert it to integers we need to remove the commas !"
   ]
  },
  {
   "cell_type": "code",
   "execution_count": 60,
   "metadata": {},
   "outputs": [],
   "source": [
    "intended_majors['test_takers'] = intended_majors['test_takers'].\\\n",
    "str.replace(',','')"
   ]
  },
  {
   "cell_type": "code",
   "execution_count": 61,
   "metadata": {},
   "outputs": [
    {
     "data": {
      "text/html": [
       "<div>\n",
       "<style scoped>\n",
       "    .dataframe tbody tr th:only-of-type {\n",
       "        vertical-align: middle;\n",
       "    }\n",
       "\n",
       "    .dataframe tbody tr th {\n",
       "        vertical-align: top;\n",
       "    }\n",
       "\n",
       "    .dataframe thead th {\n",
       "        text-align: right;\n",
       "    }\n",
       "</style>\n",
       "<table border=\"1\" class=\"dataframe\">\n",
       "  <thead>\n",
       "    <tr style=\"text-align: right;\">\n",
       "      <th></th>\n",
       "      <th>intended_college_major</th>\n",
       "      <th>test_takers</th>\n",
       "      <th>percent</th>\n",
       "      <th>total</th>\n",
       "      <th>reading_writing</th>\n",
       "      <th>math</th>\n",
       "    </tr>\n",
       "  </thead>\n",
       "  <tbody>\n",
       "    <tr>\n",
       "      <th>0</th>\n",
       "      <td>Agriculture, AgricultureOperations, and Relate...</td>\n",
       "      <td>24913</td>\n",
       "      <td>1%</td>\n",
       "      <td>977</td>\n",
       "      <td>496</td>\n",
       "      <td>481</td>\n",
       "    </tr>\n",
       "    <tr>\n",
       "      <th>1</th>\n",
       "      <td>Architecture and Related Services</td>\n",
       "      <td>28988</td>\n",
       "      <td>2%</td>\n",
       "      <td>1047</td>\n",
       "      <td>520</td>\n",
       "      <td>527</td>\n",
       "    </tr>\n",
       "  </tbody>\n",
       "</table>\n",
       "</div>"
      ],
      "text/plain": [
       "                              intended_college_major test_takers percent  \\\n",
       "0  Agriculture, AgricultureOperations, and Relate...       24913      1%   \n",
       "1                  Architecture and Related Services       28988      2%   \n",
       "\n",
       "   total  reading_writing  math  \n",
       "0    977              496   481  \n",
       "1   1047              520   527  "
      ]
     },
     "execution_count": 61,
     "metadata": {},
     "output_type": "execute_result"
    }
   ],
   "source": [
    "intended_majors.head(2)"
   ]
  },
  {
   "cell_type": "markdown",
   "metadata": {},
   "source": [
    "No more commas; let's turn the column into a int type "
   ]
  },
  {
   "cell_type": "code",
   "execution_count": 62,
   "metadata": {},
   "outputs": [],
   "source": [
    "intended_majors['test_takers'] = intended_majors['test_takers'].astype('int64')"
   ]
  },
  {
   "cell_type": "code",
   "execution_count": 63,
   "metadata": {},
   "outputs": [
    {
     "data": {
      "text/plain": [
       "intended_college_major    object\n",
       "test_takers                int64\n",
       "percent                   object\n",
       "total                      int64\n",
       "reading_writing            int64\n",
       "math                       int64\n",
       "dtype: object"
      ]
     },
     "execution_count": 63,
     "metadata": {},
     "output_type": "execute_result"
    }
   ],
   "source": [
    "intended_majors.dtypes"
   ]
  },
  {
   "cell_type": "markdown",
   "metadata": {},
   "source": [
    "let's turn the percent column to float; first let's remove the % sign "
   ]
  },
  {
   "cell_type": "code",
   "execution_count": 64,
   "metadata": {},
   "outputs": [],
   "source": [
    "intended_majors['percent'] = intended_majors['percent']\\\n",
    ".str.replace('%','')"
   ]
  },
  {
   "cell_type": "markdown",
   "metadata": {},
   "source": [
    "now let's convert the percent column to float:"
   ]
  },
  {
   "cell_type": "code",
   "execution_count": 65,
   "metadata": {},
   "outputs": [],
   "source": [
    "intended_majors['percent'] = intended_majors['percent']\\\n",
    ".astype('float')"
   ]
  },
  {
   "cell_type": "code",
   "execution_count": 66,
   "metadata": {},
   "outputs": [],
   "source": [
    "intended_majors['percent'] = intended_majors['percent']\\\n",
    ".div(100)"
   ]
  },
  {
   "cell_type": "code",
   "execution_count": 67,
   "metadata": {},
   "outputs": [
    {
     "data": {
      "text/plain": [
       "intended_college_major     object\n",
       "test_takers                 int64\n",
       "percent                   float64\n",
       "total                       int64\n",
       "reading_writing             int64\n",
       "math                        int64\n",
       "dtype: object"
      ]
     },
     "execution_count": 67,
     "metadata": {},
     "output_type": "execute_result"
    }
   ],
   "source": [
    "intended_majors.dtypes"
   ]
  },
  {
   "cell_type": "markdown",
   "metadata": {},
   "source": [
    "Let's save the intended_majors dataframe to a csv file:"
   ]
  },
  {
   "cell_type": "code",
   "execution_count": 68,
   "metadata": {},
   "outputs": [],
   "source": [
    "intended_majors.to_csv('data/intended_majors.csv')"
   ]
  },
  {
   "cell_type": "markdown",
   "metadata": {},
   "source": [
    "# Data Dictionary "
   ]
  },
  {
   "cell_type": "markdown",
   "metadata": {},
   "source": [
    "|Feature     | Type      | dataset   | Description          |\n",
    "|------------|-----------|-----------|----------------------|\n",
    "|  school    | object    | college_set | Name of the college| \n",
    "  applies_class_years | int64 |  college_set | years in which the policies apply to \n",
    "  policy_details | object | college_set | requirements per colleges for acceptance\n",
    "  number_of_applicants | int64 | college_set | number of person that applied to this particular college\n",
    "  accept_rate | float | college_set | The rate of acceptance for each colleges\n",
    "  sat_total_25th_percentile | float | college_set |25th percentile SAT score for each colleges\n",
    "  sat_total_75th_percentile | float |college_set |75th percentile SAT score for each colleges\n",
    "  act_total_25th_percentile | float | college_set |25th percentile ACT score for each colleges\n",
    "  act_total_75th_percentile\t| float | college_set |75th percentile ACT score for each colleges\n",
    "  test_is_optional | int64 | college_set | value indicating if the standardized test are optional for each college\n",
    "  intended_college_major | object | intended_majors |name of college major\n",
    "  test_takers | int64 | intended_majors | number of student applying for the corresponding major\n",
    "  percent | float | intended_majors | percentage of students that applied to the corresponding major\n",
    "  total | int64 | intended_majors | combined score SAT score\n",
    "  reading_writing | int64 | intended_majors | reading and writing SAT score \n",
    "  math | int64 | intended_majors | math SAT score \n",
    "  \n",
    "  \n",
    "  \n",
    "  \n",
    "  \n"
   ]
  },
  {
   "cell_type": "markdown",
   "metadata": {},
   "source": [
    "# Exploratory Data Analysis"
   ]
  },
  {
   "cell_type": "markdown",
   "metadata": {},
   "source": [
    "1. Summary Statistics"
   ]
  },
  {
   "cell_type": "markdown",
   "metadata": {},
   "source": [
    "let's print the summary statistics for each dataframe"
   ]
  },
  {
   "cell_type": "code",
   "execution_count": 69,
   "metadata": {},
   "outputs": [
    {
     "data": {
      "text/html": [
       "<div>\n",
       "<style scoped>\n",
       "    .dataframe tbody tr th:only-of-type {\n",
       "        vertical-align: middle;\n",
       "    }\n",
       "\n",
       "    .dataframe tbody tr th {\n",
       "        vertical-align: top;\n",
       "    }\n",
       "\n",
       "    .dataframe thead th {\n",
       "        text-align: right;\n",
       "    }\n",
       "</style>\n",
       "<table border=\"1\" class=\"dataframe\">\n",
       "  <thead>\n",
       "    <tr style=\"text-align: right;\">\n",
       "      <th></th>\n",
       "      <th>count</th>\n",
       "      <th>mean</th>\n",
       "      <th>std</th>\n",
       "      <th>min</th>\n",
       "      <th>25%</th>\n",
       "      <th>50%</th>\n",
       "      <th>75%</th>\n",
       "      <th>max</th>\n",
       "    </tr>\n",
       "  </thead>\n",
       "  <tbody>\n",
       "    <tr>\n",
       "      <th>applies_to_class_years</th>\n",
       "      <td>405.0</td>\n",
       "      <td>2021.000000</td>\n",
       "      <td>0.000000</td>\n",
       "      <td>2021.000</td>\n",
       "      <td>2021.000</td>\n",
       "      <td>2021.000</td>\n",
       "      <td>2021.000</td>\n",
       "      <td>2021.000</td>\n",
       "    </tr>\n",
       "    <tr>\n",
       "      <th>number_of_applicants</th>\n",
       "      <td>405.0</td>\n",
       "      <td>17339.239506</td>\n",
       "      <td>17187.633091</td>\n",
       "      <td>211.000</td>\n",
       "      <td>5208.000</td>\n",
       "      <td>11478.000</td>\n",
       "      <td>23583.000</td>\n",
       "      <td>111322.000</td>\n",
       "    </tr>\n",
       "    <tr>\n",
       "      <th>accept_rate</th>\n",
       "      <td>405.0</td>\n",
       "      <td>0.554116</td>\n",
       "      <td>0.242055</td>\n",
       "      <td>0.043</td>\n",
       "      <td>0.374</td>\n",
       "      <td>0.611</td>\n",
       "      <td>0.742</td>\n",
       "      <td>0.999</td>\n",
       "    </tr>\n",
       "    <tr>\n",
       "      <th>sat_total_25th_percentile</th>\n",
       "      <td>405.0</td>\n",
       "      <td>1167.934568</td>\n",
       "      <td>129.923812</td>\n",
       "      <td>793.000</td>\n",
       "      <td>1070.000</td>\n",
       "      <td>1150.000</td>\n",
       "      <td>1250.000</td>\n",
       "      <td>1530.000</td>\n",
       "    </tr>\n",
       "    <tr>\n",
       "      <th>sat_total_75th_percentile</th>\n",
       "      <td>405.0</td>\n",
       "      <td>1359.644444</td>\n",
       "      <td>111.478484</td>\n",
       "      <td>1050.000</td>\n",
       "      <td>1270.000</td>\n",
       "      <td>1350.000</td>\n",
       "      <td>1440.000</td>\n",
       "      <td>1580.000</td>\n",
       "    </tr>\n",
       "    <tr>\n",
       "      <th>act_total_25th_percentile</th>\n",
       "      <td>405.0</td>\n",
       "      <td>24.739012</td>\n",
       "      <td>4.136562</td>\n",
       "      <td>15.000</td>\n",
       "      <td>22.000</td>\n",
       "      <td>24.000</td>\n",
       "      <td>28.000</td>\n",
       "      <td>35.000</td>\n",
       "    </tr>\n",
       "    <tr>\n",
       "      <th>act_total_75th_percentile</th>\n",
       "      <td>405.0</td>\n",
       "      <td>29.910617</td>\n",
       "      <td>3.158794</td>\n",
       "      <td>19.000</td>\n",
       "      <td>28.000</td>\n",
       "      <td>30.000</td>\n",
       "      <td>32.000</td>\n",
       "      <td>36.000</td>\n",
       "    </tr>\n",
       "    <tr>\n",
       "      <th>test_is_optional</th>\n",
       "      <td>405.0</td>\n",
       "      <td>0.938272</td>\n",
       "      <td>0.240959</td>\n",
       "      <td>0.000</td>\n",
       "      <td>1.000</td>\n",
       "      <td>1.000</td>\n",
       "      <td>1.000</td>\n",
       "      <td>1.000</td>\n",
       "    </tr>\n",
       "  </tbody>\n",
       "</table>\n",
       "</div>"
      ],
      "text/plain": [
       "                           count          mean           std       min  \\\n",
       "applies_to_class_years     405.0   2021.000000      0.000000  2021.000   \n",
       "number_of_applicants       405.0  17339.239506  17187.633091   211.000   \n",
       "accept_rate                405.0      0.554116      0.242055     0.043   \n",
       "sat_total_25th_percentile  405.0   1167.934568    129.923812   793.000   \n",
       "sat_total_75th_percentile  405.0   1359.644444    111.478484  1050.000   \n",
       "act_total_25th_percentile  405.0     24.739012      4.136562    15.000   \n",
       "act_total_75th_percentile  405.0     29.910617      3.158794    19.000   \n",
       "test_is_optional           405.0      0.938272      0.240959     0.000   \n",
       "\n",
       "                                25%        50%        75%         max  \n",
       "applies_to_class_years     2021.000   2021.000   2021.000    2021.000  \n",
       "number_of_applicants       5208.000  11478.000  23583.000  111322.000  \n",
       "accept_rate                   0.374      0.611      0.742       0.999  \n",
       "sat_total_25th_percentile  1070.000   1150.000   1250.000    1530.000  \n",
       "sat_total_75th_percentile  1270.000   1350.000   1440.000    1580.000  \n",
       "act_total_25th_percentile    22.000     24.000     28.000      35.000  \n",
       "act_total_75th_percentile    28.000     30.000     32.000      36.000  \n",
       "test_is_optional              1.000      1.000      1.000       1.000  "
      ]
     },
     "execution_count": 69,
     "metadata": {},
     "output_type": "execute_result"
    }
   ],
   "source": [
    "college_set.describe().T"
   ]
  },
  {
   "cell_type": "markdown",
   "metadata": {},
   "source": [
    "Some of the relevant information here is the mean of test_is_optional column where 94% of the colleges have an optional policy.\n",
    "The minimum of the SAT 75th percentile is 1050 and 19 for the ACT.\n",
    "The maximum number of applicants for one college is 11322 students."
   ]
  },
  {
   "cell_type": "code",
   "execution_count": 70,
   "metadata": {
    "scrolled": true
   },
   "outputs": [
    {
     "data": {
      "text/html": [
       "<div>\n",
       "<style scoped>\n",
       "    .dataframe tbody tr th:only-of-type {\n",
       "        vertical-align: middle;\n",
       "    }\n",
       "\n",
       "    .dataframe tbody tr th {\n",
       "        vertical-align: top;\n",
       "    }\n",
       "\n",
       "    .dataframe thead th {\n",
       "        text-align: right;\n",
       "    }\n",
       "</style>\n",
       "<table border=\"1\" class=\"dataframe\">\n",
       "  <thead>\n",
       "    <tr style=\"text-align: right;\">\n",
       "      <th></th>\n",
       "      <th>count</th>\n",
       "      <th>mean</th>\n",
       "      <th>std</th>\n",
       "      <th>min</th>\n",
       "      <th>25%</th>\n",
       "      <th>50%</th>\n",
       "      <th>75%</th>\n",
       "      <th>max</th>\n",
       "    </tr>\n",
       "  </thead>\n",
       "  <tbody>\n",
       "    <tr>\n",
       "      <th>test_takers</th>\n",
       "      <td>38.0</td>\n",
       "      <td>48394.500000</td>\n",
       "      <td>72753.092558</td>\n",
       "      <td>283.0</td>\n",
       "      <td>6611.00</td>\n",
       "      <td>16370.50</td>\n",
       "      <td>60215.750</td>\n",
       "      <td>331026.00</td>\n",
       "    </tr>\n",
       "    <tr>\n",
       "      <th>percent</th>\n",
       "      <td>38.0</td>\n",
       "      <td>0.025789</td>\n",
       "      <td>0.039975</td>\n",
       "      <td>0.0</td>\n",
       "      <td>0.00</td>\n",
       "      <td>0.01</td>\n",
       "      <td>0.035</td>\n",
       "      <td>0.18</td>\n",
       "    </tr>\n",
       "    <tr>\n",
       "      <th>total</th>\n",
       "      <td>38.0</td>\n",
       "      <td>1058.500000</td>\n",
       "      <td>82.445969</td>\n",
       "      <td>916.0</td>\n",
       "      <td>988.25</td>\n",
       "      <td>1066.50</td>\n",
       "      <td>1115.500</td>\n",
       "      <td>1242.00</td>\n",
       "    </tr>\n",
       "    <tr>\n",
       "      <th>reading_writing</th>\n",
       "      <td>38.0</td>\n",
       "      <td>535.500000</td>\n",
       "      <td>41.362439</td>\n",
       "      <td>458.0</td>\n",
       "      <td>501.25</td>\n",
       "      <td>537.00</td>\n",
       "      <td>569.750</td>\n",
       "      <td>597.00</td>\n",
       "    </tr>\n",
       "    <tr>\n",
       "      <th>math</th>\n",
       "      <td>38.0</td>\n",
       "      <td>523.000000</td>\n",
       "      <td>43.386385</td>\n",
       "      <td>456.0</td>\n",
       "      <td>486.50</td>\n",
       "      <td>527.00</td>\n",
       "      <td>542.250</td>\n",
       "      <td>646.00</td>\n",
       "    </tr>\n",
       "  </tbody>\n",
       "</table>\n",
       "</div>"
      ],
      "text/plain": [
       "                 count          mean           std    min      25%       50%  \\\n",
       "test_takers       38.0  48394.500000  72753.092558  283.0  6611.00  16370.50   \n",
       "percent           38.0      0.025789      0.039975    0.0     0.00      0.01   \n",
       "total             38.0   1058.500000     82.445969  916.0   988.25   1066.50   \n",
       "reading_writing   38.0    535.500000     41.362439  458.0   501.25    537.00   \n",
       "math              38.0    523.000000     43.386385  456.0   486.50    527.00   \n",
       "\n",
       "                       75%        max  \n",
       "test_takers      60215.750  331026.00  \n",
       "percent              0.035       0.18  \n",
       "total             1115.500    1242.00  \n",
       "reading_writing    569.750     597.00  \n",
       "math               542.250     646.00  "
      ]
     },
     "execution_count": 70,
     "metadata": {},
     "output_type": "execute_result"
    }
   ],
   "source": [
    "intended_majors.describe().T"
   ]
  },
  {
   "cell_type": "markdown",
   "metadata": {},
   "source": [
    "Here we learn more about the intended_majors dataframe. There are 38 majors listed.\n",
    "The most popular major is selected by 18% of all aplicants."
   ]
  },
  {
   "cell_type": "markdown",
   "metadata": {},
   "source": [
    "2. dictionary comprehension to apply the standard deviation function to each numeric column in both dataframes."
   ]
  },
  {
   "cell_type": "code",
   "execution_count": 71,
   "metadata": {},
   "outputs": [
    {
     "data": {
      "text/plain": [
       "{'number_of_applicants': 17166.400676527417,\n",
       " 'accept_rate': 0.24175568498775526,\n",
       " 'sat_total_25th_percentile': 129.76331270270018,\n",
       " 'sat_total_75th_percentile': 111.34077154127958,\n",
       " 'act_total_25th_percentile': 4.131452261611048,\n",
       " 'act_total_75th_percentile': 3.1548920842724386,\n",
       " 'test_is_optional': 0.2406615887607152}"
      ]
     },
     "execution_count": 71,
     "metadata": {},
     "output_type": "execute_result"
    }
   ],
   "source": [
    "{column: standard_dev(college_set[column])\\\n",
    " for column in list(college_set.columns)[3:]} "
   ]
  },
  {
   "cell_type": "code",
   "execution_count": 72,
   "metadata": {},
   "outputs": [
    {
     "data": {
      "text/plain": [
       "{'test_takers': 71789.43289002257,\n",
       " 'percent': 0.03944560404747735,\n",
       " 'total': 81.35392139482761,\n",
       " 'reading_writing': 40.814567832679806,\n",
       " 'math': 42.811705236572365}"
      ]
     },
     "execution_count": 72,
     "metadata": {},
     "output_type": "execute_result"
    }
   ],
   "source": [
    "{column: standard_dev(intended_majors[column]) for column\\\n",
    " in list(intended_majors.columns)[1:]} "
   ]
  },
  {
   "cell_type": "markdown",
   "metadata": {},
   "source": [
    "3. I investigate the trends in the data."
   ]
  },
  {
   "cell_type": "markdown",
   "metadata": {},
   "source": [
    "Let's observe the 10 most difficult colleges to get into"
   ]
  },
  {
   "cell_type": "code",
   "execution_count": 73,
   "metadata": {},
   "outputs": [
    {
     "data": {
      "text/html": [
       "<div>\n",
       "<style scoped>\n",
       "    .dataframe tbody tr th:only-of-type {\n",
       "        vertical-align: middle;\n",
       "    }\n",
       "\n",
       "    .dataframe tbody tr th {\n",
       "        vertical-align: top;\n",
       "    }\n",
       "\n",
       "    .dataframe thead th {\n",
       "        text-align: right;\n",
       "    }\n",
       "</style>\n",
       "<table border=\"1\" class=\"dataframe\">\n",
       "  <thead>\n",
       "    <tr style=\"text-align: right;\">\n",
       "      <th></th>\n",
       "      <th>school</th>\n",
       "      <th>number_of_applicants</th>\n",
       "      <th>accept_rate</th>\n",
       "      <th>sat_total_25th_percentile</th>\n",
       "      <th>sat_total_75th_percentile</th>\n",
       "      <th>act_total_25th_percentile</th>\n",
       "      <th>act_total_75th_percentile</th>\n",
       "      <th>test_is_optional</th>\n",
       "    </tr>\n",
       "  </thead>\n",
       "  <tbody>\n",
       "    <tr>\n",
       "      <th>0</th>\n",
       "      <td>Stanford University</td>\n",
       "      <td>47452</td>\n",
       "      <td>0.043</td>\n",
       "      <td>1440.0</td>\n",
       "      <td>1570.0</td>\n",
       "      <td>32.0</td>\n",
       "      <td>35.0</td>\n",
       "      <td>1</td>\n",
       "    </tr>\n",
       "    <tr>\n",
       "      <th>1</th>\n",
       "      <td>Harvard College</td>\n",
       "      <td>42749</td>\n",
       "      <td>0.047</td>\n",
       "      <td>1460.0</td>\n",
       "      <td>1580.0</td>\n",
       "      <td>33.0</td>\n",
       "      <td>35.0</td>\n",
       "      <td>1</td>\n",
       "    </tr>\n",
       "    <tr>\n",
       "      <th>2</th>\n",
       "      <td>Princeton University</td>\n",
       "      <td>35370</td>\n",
       "      <td>0.055</td>\n",
       "      <td>1440.0</td>\n",
       "      <td>1570.0</td>\n",
       "      <td>32.0</td>\n",
       "      <td>35.0</td>\n",
       "      <td>1</td>\n",
       "    </tr>\n",
       "    <tr>\n",
       "      <th>3</th>\n",
       "      <td>Columbia University</td>\n",
       "      <td>40203</td>\n",
       "      <td>0.055</td>\n",
       "      <td>1450.0</td>\n",
       "      <td>1560.0</td>\n",
       "      <td>33.0</td>\n",
       "      <td>35.0</td>\n",
       "      <td>1</td>\n",
       "    </tr>\n",
       "    <tr>\n",
       "      <th>4</th>\n",
       "      <td>Yale University</td>\n",
       "      <td>36844</td>\n",
       "      <td>0.061</td>\n",
       "      <td>1460.0</td>\n",
       "      <td>1570.0</td>\n",
       "      <td>33.0</td>\n",
       "      <td>35.0</td>\n",
       "      <td>1</td>\n",
       "    </tr>\n",
       "    <tr>\n",
       "      <th>5</th>\n",
       "      <td>California Institute of Technology</td>\n",
       "      <td>8367</td>\n",
       "      <td>0.064</td>\n",
       "      <td>1530.0</td>\n",
       "      <td>1560.0</td>\n",
       "      <td>35.0</td>\n",
       "      <td>36.0</td>\n",
       "      <td>1</td>\n",
       "    </tr>\n",
       "    <tr>\n",
       "      <th>6</th>\n",
       "      <td>Massachusetts Institute of Technology</td>\n",
       "      <td>21706</td>\n",
       "      <td>0.067</td>\n",
       "      <td>1500.0</td>\n",
       "      <td>1570.0</td>\n",
       "      <td>34.0</td>\n",
       "      <td>36.0</td>\n",
       "      <td>1</td>\n",
       "    </tr>\n",
       "    <tr>\n",
       "      <th>7</th>\n",
       "      <td>Brown University</td>\n",
       "      <td>38674</td>\n",
       "      <td>0.071</td>\n",
       "      <td>1440.0</td>\n",
       "      <td>1570.0</td>\n",
       "      <td>33.0</td>\n",
       "      <td>35.0</td>\n",
       "      <td>1</td>\n",
       "    </tr>\n",
       "    <tr>\n",
       "      <th>8</th>\n",
       "      <td>University of Chicago</td>\n",
       "      <td>32283</td>\n",
       "      <td>0.073</td>\n",
       "      <td>1490.0</td>\n",
       "      <td>1570.0</td>\n",
       "      <td>33.0</td>\n",
       "      <td>35.0</td>\n",
       "      <td>1</td>\n",
       "    </tr>\n",
       "    <tr>\n",
       "      <th>9</th>\n",
       "      <td>Pomona College</td>\n",
       "      <td>10401</td>\n",
       "      <td>0.074</td>\n",
       "      <td>1390.0</td>\n",
       "      <td>1540.0</td>\n",
       "      <td>32.0</td>\n",
       "      <td>35.0</td>\n",
       "      <td>1</td>\n",
       "    </tr>\n",
       "  </tbody>\n",
       "</table>\n",
       "</div>"
      ],
      "text/plain": [
       "                                  school  number_of_applicants  accept_rate  \\\n",
       "0                    Stanford University                 47452        0.043   \n",
       "1                        Harvard College                 42749        0.047   \n",
       "2                   Princeton University                 35370        0.055   \n",
       "3                    Columbia University                 40203        0.055   \n",
       "4                        Yale University                 36844        0.061   \n",
       "5     California Institute of Technology                  8367        0.064   \n",
       "6  Massachusetts Institute of Technology                 21706        0.067   \n",
       "7                       Brown University                 38674        0.071   \n",
       "8                  University of Chicago                 32283        0.073   \n",
       "9                         Pomona College                 10401        0.074   \n",
       "\n",
       "   sat_total_25th_percentile  sat_total_75th_percentile  \\\n",
       "0                     1440.0                     1570.0   \n",
       "1                     1460.0                     1580.0   \n",
       "2                     1440.0                     1570.0   \n",
       "3                     1450.0                     1560.0   \n",
       "4                     1460.0                     1570.0   \n",
       "5                     1530.0                     1560.0   \n",
       "6                     1500.0                     1570.0   \n",
       "7                     1440.0                     1570.0   \n",
       "8                     1490.0                     1570.0   \n",
       "9                     1390.0                     1540.0   \n",
       "\n",
       "   act_total_25th_percentile  act_total_75th_percentile  test_is_optional  \n",
       "0                       32.0                       35.0                 1  \n",
       "1                       33.0                       35.0                 1  \n",
       "2                       32.0                       35.0                 1  \n",
       "3                       33.0                       35.0                 1  \n",
       "4                       33.0                       35.0                 1  \n",
       "5                       35.0                       36.0                 1  \n",
       "6                       34.0                       36.0                 1  \n",
       "7                       33.0                       35.0                 1  \n",
       "8                       33.0                       35.0                 1  \n",
       "9                       32.0                       35.0                 1  "
      ]
     },
     "execution_count": 73,
     "metadata": {},
     "output_type": "execute_result"
    }
   ],
   "source": [
    "college_set.loc[:, ['school','number_of_applicants', 'accept_rate',\n",
    "        'sat_total_25th_percentile', 'sat_total_75th_percentile',\n",
    "        'act_total_25th_percentile', 'act_total_75th_percentile',\n",
    "        'test_is_optional']].sort_values('accept_rate',\n",
    "                                         ascending= True).head(10)"
   ]
  },
  {
   "cell_type": "markdown",
   "metadata": {},
   "source": [
    "Stanford University has the lowest acceptance rate of all colleges \n",
    "even though Harvard has the highest SAT 75th percentile: 1580.\n",
    "The values are more similar accross these 10 colleges for the ACT where California Institute\n",
    "of Technology has the highest ACT 75th percentile score at 36. Stanford also has the highest number of applicants with\n",
    "47452 students applications. All the top 10 colleges with the lowest accept rate have an optional test policy "
   ]
  },
  {
   "cell_type": "markdown",
   "metadata": {},
   "source": [
    "Let's observe the colleges with the most number of applicants:"
   ]
  },
  {
   "cell_type": "code",
   "execution_count": 74,
   "metadata": {},
   "outputs": [
    {
     "data": {
      "text/html": [
       "<div>\n",
       "<style scoped>\n",
       "    .dataframe tbody tr th:only-of-type {\n",
       "        vertical-align: middle;\n",
       "    }\n",
       "\n",
       "    .dataframe tbody tr th {\n",
       "        vertical-align: top;\n",
       "    }\n",
       "\n",
       "    .dataframe thead th {\n",
       "        text-align: right;\n",
       "    }\n",
       "</style>\n",
       "<table border=\"1\" class=\"dataframe\">\n",
       "  <thead>\n",
       "    <tr style=\"text-align: right;\">\n",
       "      <th></th>\n",
       "      <th>school</th>\n",
       "      <th>number_of_applicants</th>\n",
       "      <th>accept_rate</th>\n",
       "      <th>sat_total_25th_percentile</th>\n",
       "      <th>sat_total_75th_percentile</th>\n",
       "      <th>act_total_25th_percentile</th>\n",
       "      <th>act_total_75th_percentile</th>\n",
       "      <th>test_is_optional</th>\n",
       "    </tr>\n",
       "  </thead>\n",
       "  <tbody>\n",
       "    <tr>\n",
       "      <th>24</th>\n",
       "      <td>University of California—​Los Angeles</td>\n",
       "      <td>111322</td>\n",
       "      <td>0.123</td>\n",
       "      <td>1290.0</td>\n",
       "      <td>1510.0</td>\n",
       "      <td>27.0</td>\n",
       "      <td>34.0</td>\n",
       "      <td>1</td>\n",
       "    </tr>\n",
       "    <tr>\n",
       "      <th>72</th>\n",
       "      <td>University of California—​San Diego</td>\n",
       "      <td>97901</td>\n",
       "      <td>0.302</td>\n",
       "      <td>1250.0</td>\n",
       "      <td>1470.0</td>\n",
       "      <td>26.0</td>\n",
       "      <td>33.0</td>\n",
       "      <td>1</td>\n",
       "    </tr>\n",
       "    <tr>\n",
       "      <th>69</th>\n",
       "      <td>University of California—​Santa Barbara</td>\n",
       "      <td>93457</td>\n",
       "      <td>0.296</td>\n",
       "      <td>1260.0</td>\n",
       "      <td>1460.0</td>\n",
       "      <td>25.0</td>\n",
       "      <td>33.0</td>\n",
       "      <td>1</td>\n",
       "    </tr>\n",
       "    <tr>\n",
       "      <th>33</th>\n",
       "      <td>University of California—​Berkeley</td>\n",
       "      <td>89621</td>\n",
       "      <td>0.148</td>\n",
       "      <td>1300.0</td>\n",
       "      <td>1530.0</td>\n",
       "      <td>28.0</td>\n",
       "      <td>34.0</td>\n",
       "      <td>1</td>\n",
       "    </tr>\n",
       "    <tr>\n",
       "      <th>40</th>\n",
       "      <td>New York University</td>\n",
       "      <td>79462</td>\n",
       "      <td>0.162</td>\n",
       "      <td>1370.0</td>\n",
       "      <td>1510.0</td>\n",
       "      <td>30.0</td>\n",
       "      <td>34.0</td>\n",
       "      <td>1</td>\n",
       "    </tr>\n",
       "    <tr>\n",
       "      <th>108</th>\n",
       "      <td>University of California—​Davis</td>\n",
       "      <td>76647</td>\n",
       "      <td>0.412</td>\n",
       "      <td>1150.0</td>\n",
       "      <td>1410.0</td>\n",
       "      <td>25.0</td>\n",
       "      <td>31.0</td>\n",
       "      <td>1</td>\n",
       "    </tr>\n",
       "    <tr>\n",
       "      <th>135</th>\n",
       "      <td>Pennsylvania State University—​University Park</td>\n",
       "      <td>71903</td>\n",
       "      <td>0.491</td>\n",
       "      <td>1160.0</td>\n",
       "      <td>1370.0</td>\n",
       "      <td>25.0</td>\n",
       "      <td>30.0</td>\n",
       "      <td>1</td>\n",
       "    </tr>\n",
       "    <tr>\n",
       "      <th>102</th>\n",
       "      <td>California State University--Long Beach</td>\n",
       "      <td>71297</td>\n",
       "      <td>0.393</td>\n",
       "      <td>1040.0</td>\n",
       "      <td>1250.0</td>\n",
       "      <td>20.0</td>\n",
       "      <td>26.0</td>\n",
       "      <td>1</td>\n",
       "    </tr>\n",
       "    <tr>\n",
       "      <th>85</th>\n",
       "      <td>San Diego State University</td>\n",
       "      <td>69842</td>\n",
       "      <td>0.340</td>\n",
       "      <td>1110.0</td>\n",
       "      <td>1320.0</td>\n",
       "      <td>22.0</td>\n",
       "      <td>29.0</td>\n",
       "      <td>1</td>\n",
       "    </tr>\n",
       "    <tr>\n",
       "      <th>54</th>\n",
       "      <td>University of Michigan—​Ann Arbor</td>\n",
       "      <td>64972</td>\n",
       "      <td>0.229</td>\n",
       "      <td>1340.0</td>\n",
       "      <td>1530.0</td>\n",
       "      <td>31.0</td>\n",
       "      <td>34.0</td>\n",
       "      <td>1</td>\n",
       "    </tr>\n",
       "  </tbody>\n",
       "</table>\n",
       "</div>"
      ],
      "text/plain": [
       "                                             school  number_of_applicants  \\\n",
       "24            University of California—​Los Angeles                111322   \n",
       "72              University of California—​San Diego                 97901   \n",
       "69          University of California—​Santa Barbara                 93457   \n",
       "33               University of California—​Berkeley                 89621   \n",
       "40                              New York University                 79462   \n",
       "108                 University of California—​Davis                 76647   \n",
       "135  Pennsylvania State University—​University Park                 71903   \n",
       "102         California State University--Long Beach                 71297   \n",
       "85                       San Diego State University                 69842   \n",
       "54                University of Michigan—​Ann Arbor                 64972   \n",
       "\n",
       "     accept_rate  sat_total_25th_percentile  sat_total_75th_percentile  \\\n",
       "24         0.123                     1290.0                     1510.0   \n",
       "72         0.302                     1250.0                     1470.0   \n",
       "69         0.296                     1260.0                     1460.0   \n",
       "33         0.148                     1300.0                     1530.0   \n",
       "40         0.162                     1370.0                     1510.0   \n",
       "108        0.412                     1150.0                     1410.0   \n",
       "135        0.491                     1160.0                     1370.0   \n",
       "102        0.393                     1040.0                     1250.0   \n",
       "85         0.340                     1110.0                     1320.0   \n",
       "54         0.229                     1340.0                     1530.0   \n",
       "\n",
       "     act_total_25th_percentile  act_total_75th_percentile  test_is_optional  \n",
       "24                        27.0                       34.0                 1  \n",
       "72                        26.0                       33.0                 1  \n",
       "69                        25.0                       33.0                 1  \n",
       "33                        28.0                       34.0                 1  \n",
       "40                        30.0                       34.0                 1  \n",
       "108                       25.0                       31.0                 1  \n",
       "135                       25.0                       30.0                 1  \n",
       "102                       20.0                       26.0                 1  \n",
       "85                        22.0                       29.0                 1  \n",
       "54                        31.0                       34.0                 1  "
      ]
     },
     "execution_count": 74,
     "metadata": {},
     "output_type": "execute_result"
    }
   ],
   "source": [
    "college_set.loc[:, ['school','number_of_applicants', 'accept_rate',\n",
    "        'sat_total_25th_percentile', 'sat_total_75th_percentile',\n",
    "        'act_total_25th_percentile', 'act_total_75th_percentile',\n",
    "        'test_is_optional']].sort_values('number_of_applicants', \n",
    "                                         ascending= False).head(10)"
   ]
  },
  {
   "cell_type": "markdown",
   "metadata": {},
   "source": [
    "the University of California - Los Angeles has the highest number of applicants with 111322 demands.\n",
    "7 out of the top 10 colleges with the most applicants are in California. 4 out of the top 5 of those colleges are in California.\n",
    "The trend is clear, The colleges in California are really popular.\n",
    "UCLA, the school with the most demand also has the lowest acceptance rate out of those 10 colleges.\n",
    "UC Berkeley and University of Michigan have the highest 75% percentile score for the SAT on that list.\n",
    "For the ACT, UCLA, UC Berkeley and University of Michigan have the highest 75% percentile score.\n"
   ]
  },
  {
   "cell_type": "markdown",
   "metadata": {},
   "source": [
    "How many colleges have a mandatory test policy ?"
   ]
  },
  {
   "cell_type": "code",
   "execution_count": 75,
   "metadata": {},
   "outputs": [
    {
     "data": {
      "text/plain": [
       "school                       25\n",
       "applies_to_class_years       25\n",
       "policy_details               25\n",
       "number_of_applicants         25\n",
       "accept_rate                  25\n",
       "sat_total_25th_percentile    25\n",
       "sat_total_75th_percentile    25\n",
       "act_total_25th_percentile    25\n",
       "act_total_75th_percentile    25\n",
       "test_is_optional             25\n",
       "dtype: int64"
      ]
     },
     "execution_count": 75,
     "metadata": {},
     "output_type": "execute_result"
    }
   ],
   "source": [
    "college_set[college_set['test_is_optional'] == 0].count()"
   ]
  },
  {
   "cell_type": "code",
   "execution_count": 76,
   "metadata": {},
   "outputs": [
    {
     "data": {
      "text/plain": [
       "(405, 10)"
      ]
     },
     "execution_count": 76,
     "metadata": {},
     "output_type": "execute_result"
    }
   ],
   "source": [
    "college_set.shape"
   ]
  },
  {
   "cell_type": "markdown",
   "metadata": {},
   "source": [
    "25 out of 405 colleges require a mandatory test for acceptance. \n",
    "That's only 6% of the colleges.\n"
   ]
  },
  {
   "cell_type": "markdown",
   "metadata": {},
   "source": [
    "Let's see the top 10 colleges with the highest 75th percentile score for the ACT:"
   ]
  },
  {
   "cell_type": "code",
   "execution_count": 77,
   "metadata": {},
   "outputs": [
    {
     "data": {
      "text/html": [
       "<div>\n",
       "<style scoped>\n",
       "    .dataframe tbody tr th:only-of-type {\n",
       "        vertical-align: middle;\n",
       "    }\n",
       "\n",
       "    .dataframe tbody tr th {\n",
       "        vertical-align: top;\n",
       "    }\n",
       "\n",
       "    .dataframe thead th {\n",
       "        text-align: right;\n",
       "    }\n",
       "</style>\n",
       "<table border=\"1\" class=\"dataframe\">\n",
       "  <thead>\n",
       "    <tr style=\"text-align: right;\">\n",
       "      <th></th>\n",
       "      <th>school</th>\n",
       "      <th>number_of_applicants</th>\n",
       "      <th>accept_rate</th>\n",
       "      <th>sat_total_25th_percentile</th>\n",
       "      <th>sat_total_75th_percentile</th>\n",
       "      <th>act_total_25th_percentile</th>\n",
       "      <th>act_total_75th_percentile</th>\n",
       "      <th>test_is_optional</th>\n",
       "    </tr>\n",
       "  </thead>\n",
       "  <tbody>\n",
       "    <tr>\n",
       "      <th>1</th>\n",
       "      <td>Harvard College</td>\n",
       "      <td>42749</td>\n",
       "      <td>0.047</td>\n",
       "      <td>1460.0</td>\n",
       "      <td>1580.0</td>\n",
       "      <td>33.0</td>\n",
       "      <td>35.0</td>\n",
       "      <td>1</td>\n",
       "    </tr>\n",
       "    <tr>\n",
       "      <th>0</th>\n",
       "      <td>Stanford University</td>\n",
       "      <td>47452</td>\n",
       "      <td>0.043</td>\n",
       "      <td>1440.0</td>\n",
       "      <td>1570.0</td>\n",
       "      <td>32.0</td>\n",
       "      <td>35.0</td>\n",
       "      <td>1</td>\n",
       "    </tr>\n",
       "    <tr>\n",
       "      <th>2</th>\n",
       "      <td>Princeton University</td>\n",
       "      <td>35370</td>\n",
       "      <td>0.055</td>\n",
       "      <td>1440.0</td>\n",
       "      <td>1570.0</td>\n",
       "      <td>32.0</td>\n",
       "      <td>35.0</td>\n",
       "      <td>1</td>\n",
       "    </tr>\n",
       "    <tr>\n",
       "      <th>4</th>\n",
       "      <td>Yale University</td>\n",
       "      <td>36844</td>\n",
       "      <td>0.061</td>\n",
       "      <td>1460.0</td>\n",
       "      <td>1570.0</td>\n",
       "      <td>33.0</td>\n",
       "      <td>35.0</td>\n",
       "      <td>1</td>\n",
       "    </tr>\n",
       "    <tr>\n",
       "      <th>35</th>\n",
       "      <td>Washington University in St. Louis</td>\n",
       "      <td>31320</td>\n",
       "      <td>0.150</td>\n",
       "      <td>1470.0</td>\n",
       "      <td>1570.0</td>\n",
       "      <td>32.0</td>\n",
       "      <td>35.0</td>\n",
       "      <td>1</td>\n",
       "    </tr>\n",
       "    <tr>\n",
       "      <th>6</th>\n",
       "      <td>Massachusetts Institute of Technology</td>\n",
       "      <td>21706</td>\n",
       "      <td>0.067</td>\n",
       "      <td>1500.0</td>\n",
       "      <td>1570.0</td>\n",
       "      <td>34.0</td>\n",
       "      <td>36.0</td>\n",
       "      <td>1</td>\n",
       "    </tr>\n",
       "    <tr>\n",
       "      <th>7</th>\n",
       "      <td>Brown University</td>\n",
       "      <td>38674</td>\n",
       "      <td>0.071</td>\n",
       "      <td>1440.0</td>\n",
       "      <td>1570.0</td>\n",
       "      <td>33.0</td>\n",
       "      <td>35.0</td>\n",
       "      <td>1</td>\n",
       "    </tr>\n",
       "    <tr>\n",
       "      <th>8</th>\n",
       "      <td>University of Chicago</td>\n",
       "      <td>32283</td>\n",
       "      <td>0.073</td>\n",
       "      <td>1490.0</td>\n",
       "      <td>1570.0</td>\n",
       "      <td>33.0</td>\n",
       "      <td>35.0</td>\n",
       "      <td>1</td>\n",
       "    </tr>\n",
       "    <tr>\n",
       "      <th>31</th>\n",
       "      <td>Harvey Mudd College</td>\n",
       "      <td>4045</td>\n",
       "      <td>0.137</td>\n",
       "      <td>1490.0</td>\n",
       "      <td>1570.0</td>\n",
       "      <td>33.0</td>\n",
       "      <td>35.0</td>\n",
       "      <td>1</td>\n",
       "    </tr>\n",
       "    <tr>\n",
       "      <th>13</th>\n",
       "      <td>Duke University</td>\n",
       "      <td>35767</td>\n",
       "      <td>0.089</td>\n",
       "      <td>1450.0</td>\n",
       "      <td>1570.0</td>\n",
       "      <td>33.0</td>\n",
       "      <td>35.0</td>\n",
       "      <td>1</td>\n",
       "    </tr>\n",
       "  </tbody>\n",
       "</table>\n",
       "</div>"
      ],
      "text/plain": [
       "                                   school  number_of_applicants  accept_rate  \\\n",
       "1                         Harvard College                 42749        0.047   \n",
       "0                     Stanford University                 47452        0.043   \n",
       "2                    Princeton University                 35370        0.055   \n",
       "4                         Yale University                 36844        0.061   \n",
       "35     Washington University in St. Louis                 31320        0.150   \n",
       "6   Massachusetts Institute of Technology                 21706        0.067   \n",
       "7                        Brown University                 38674        0.071   \n",
       "8                   University of Chicago                 32283        0.073   \n",
       "31                    Harvey Mudd College                  4045        0.137   \n",
       "13                        Duke University                 35767        0.089   \n",
       "\n",
       "    sat_total_25th_percentile  sat_total_75th_percentile  \\\n",
       "1                      1460.0                     1580.0   \n",
       "0                      1440.0                     1570.0   \n",
       "2                      1440.0                     1570.0   \n",
       "4                      1460.0                     1570.0   \n",
       "35                     1470.0                     1570.0   \n",
       "6                      1500.0                     1570.0   \n",
       "7                      1440.0                     1570.0   \n",
       "8                      1490.0                     1570.0   \n",
       "31                     1490.0                     1570.0   \n",
       "13                     1450.0                     1570.0   \n",
       "\n",
       "    act_total_25th_percentile  act_total_75th_percentile  test_is_optional  \n",
       "1                        33.0                       35.0                 1  \n",
       "0                        32.0                       35.0                 1  \n",
       "2                        32.0                       35.0                 1  \n",
       "4                        33.0                       35.0                 1  \n",
       "35                       32.0                       35.0                 1  \n",
       "6                        34.0                       36.0                 1  \n",
       "7                        33.0                       35.0                 1  \n",
       "8                        33.0                       35.0                 1  \n",
       "31                       33.0                       35.0                 1  \n",
       "13                       33.0                       35.0                 1  "
      ]
     },
     "execution_count": 77,
     "metadata": {},
     "output_type": "execute_result"
    }
   ],
   "source": [
    "college_set.loc[:, ['school','number_of_applicants', 'accept_rate',\n",
    "        'sat_total_25th_percentile', 'sat_total_75th_percentile',\n",
    "        'act_total_25th_percentile', 'act_total_75th_percentile',\n",
    "        'test_is_optional']].sort_values('sat_total_75th_percentile',\n",
    "                                         ascending= False).head(10)"
   ]
  },
  {
   "cell_type": "markdown",
   "metadata": {},
   "source": [
    "As we previously observed; Harvard has the highest 75th percentile score for the SAT.\n",
    "the mean of the 75th percentile for these colleges is :"
   ]
  },
  {
   "cell_type": "code",
   "execution_count": 78,
   "metadata": {},
   "outputs": [
    {
     "data": {
      "text/plain": [
       "1571.0"
      ]
     },
     "execution_count": 78,
     "metadata": {},
     "output_type": "execute_result"
    }
   ],
   "source": [
    "college_set.sort_values('sat_total_75th_percentile', ascending = False)[:10]\\\n",
    ".sat_total_75th_percentile.mean()"
   ]
  },
  {
   "cell_type": "markdown",
   "metadata": {},
   "source": [
    "Let's explore the other dataframe, intended_majors showing the college majors, the number of students applying to these majors and their average SAT scores"
   ]
  },
  {
   "cell_type": "markdown",
   "metadata": {},
   "source": [
    "What are the 5 majors with the highest percentage of test takers ?"
   ]
  },
  {
   "cell_type": "code",
   "execution_count": 79,
   "metadata": {},
   "outputs": [
    {
     "data": {
      "text/html": [
       "<div>\n",
       "<style scoped>\n",
       "    .dataframe tbody tr th:only-of-type {\n",
       "        vertical-align: middle;\n",
       "    }\n",
       "\n",
       "    .dataframe tbody tr th {\n",
       "        vertical-align: top;\n",
       "    }\n",
       "\n",
       "    .dataframe thead th {\n",
       "        text-align: right;\n",
       "    }\n",
       "</style>\n",
       "<table border=\"1\" class=\"dataframe\">\n",
       "  <thead>\n",
       "    <tr style=\"text-align: right;\">\n",
       "      <th></th>\n",
       "      <th>intended_college_major</th>\n",
       "      <th>test_takers</th>\n",
       "      <th>percent</th>\n",
       "      <th>total</th>\n",
       "      <th>reading_writing</th>\n",
       "      <th>math</th>\n",
       "    </tr>\n",
       "  </thead>\n",
       "  <tbody>\n",
       "    <tr>\n",
       "      <th>14</th>\n",
       "      <td>Health Professions and related Clinical Sciences</td>\n",
       "      <td>331026</td>\n",
       "      <td>0.18</td>\n",
       "      <td>1048</td>\n",
       "      <td>529</td>\n",
       "      <td>518</td>\n",
       "    </tr>\n",
       "    <tr>\n",
       "      <th>4</th>\n",
       "      <td>Business, Management, Marketing, and Related S...</td>\n",
       "      <td>221523</td>\n",
       "      <td>0.12</td>\n",
       "      <td>1072</td>\n",
       "      <td>534</td>\n",
       "      <td>537</td>\n",
       "    </tr>\n",
       "    <tr>\n",
       "      <th>9</th>\n",
       "      <td>Engineering</td>\n",
       "      <td>194127</td>\n",
       "      <td>0.11</td>\n",
       "      <td>1139</td>\n",
       "      <td>559</td>\n",
       "      <td>581</td>\n",
       "    </tr>\n",
       "    <tr>\n",
       "      <th>3</th>\n",
       "      <td>Biological and Biomedical Sciences</td>\n",
       "      <td>155834</td>\n",
       "      <td>0.08</td>\n",
       "      <td>1139</td>\n",
       "      <td>572</td>\n",
       "      <td>566</td>\n",
       "    </tr>\n",
       "    <tr>\n",
       "      <th>35</th>\n",
       "      <td>Visual and Performing Arts, General</td>\n",
       "      <td>130642</td>\n",
       "      <td>0.07</td>\n",
       "      <td>1045</td>\n",
       "      <td>536</td>\n",
       "      <td>510</td>\n",
       "    </tr>\n",
       "  </tbody>\n",
       "</table>\n",
       "</div>"
      ],
      "text/plain": [
       "                               intended_college_major  test_takers  percent  \\\n",
       "14   Health Professions and related Clinical Sciences       331026     0.18   \n",
       "4   Business, Management, Marketing, and Related S...       221523     0.12   \n",
       "9                                         Engineering       194127     0.11   \n",
       "3                  Biological and Biomedical Sciences       155834     0.08   \n",
       "35                Visual and Performing Arts, General       130642     0.07   \n",
       "\n",
       "    total  reading_writing  math  \n",
       "14   1048              529   518  \n",
       "4    1072              534   537  \n",
       "9    1139              559   581  \n",
       "3    1139              572   566  \n",
       "35   1045              536   510  "
      ]
     },
     "execution_count": 79,
     "metadata": {},
     "output_type": "execute_result"
    }
   ],
   "source": [
    "intended_majors.loc[:, ['intended_college_major','test_takers', 'percent',\n",
    "        'total', 'reading_writing', 'math'\n",
    "        ]].sort_values('percent', ascending= False).head(5)"
   ]
  },
  {
   "cell_type": "markdown",
   "metadata": {},
   "source": [
    "The five majors with the most test takers are Health profession, Business,\n",
    "Engineering, Biological and Biomedical Sciences and Visual and Performing Arts."
   ]
  },
  {
   "cell_type": "markdown",
   "metadata": {},
   "source": [
    "What are the majors with the highest average of total SAT scores ?"
   ]
  },
  {
   "cell_type": "code",
   "execution_count": 80,
   "metadata": {
    "scrolled": true
   },
   "outputs": [
    {
     "data": {
      "text/html": [
       "<div>\n",
       "<style scoped>\n",
       "    .dataframe tbody tr th:only-of-type {\n",
       "        vertical-align: middle;\n",
       "    }\n",
       "\n",
       "    .dataframe tbody tr th {\n",
       "        vertical-align: top;\n",
       "    }\n",
       "\n",
       "    .dataframe thead th {\n",
       "        text-align: right;\n",
       "    }\n",
       "</style>\n",
       "<table border=\"1\" class=\"dataframe\">\n",
       "  <thead>\n",
       "    <tr style=\"text-align: right;\">\n",
       "      <th></th>\n",
       "      <th>intended_college_major</th>\n",
       "      <th>test_takers</th>\n",
       "      <th>percent</th>\n",
       "      <th>total</th>\n",
       "      <th>reading_writing</th>\n",
       "      <th>math</th>\n",
       "    </tr>\n",
       "  </thead>\n",
       "  <tbody>\n",
       "    <tr>\n",
       "      <th>19</th>\n",
       "      <td>Mathematics and Statistics</td>\n",
       "      <td>16508</td>\n",
       "      <td>0.01</td>\n",
       "      <td>1242</td>\n",
       "      <td>597</td>\n",
       "      <td>646</td>\n",
       "    </tr>\n",
       "    <tr>\n",
       "      <th>27</th>\n",
       "      <td>Physical Sciences</td>\n",
       "      <td>26318</td>\n",
       "      <td>0.01</td>\n",
       "      <td>1203</td>\n",
       "      <td>597</td>\n",
       "      <td>606</td>\n",
       "    </tr>\n",
       "    <tr>\n",
       "      <th>32</th>\n",
       "      <td>Social Sciences</td>\n",
       "      <td>33356</td>\n",
       "      <td>0.02</td>\n",
       "      <td>1164</td>\n",
       "      <td>594</td>\n",
       "      <td>570</td>\n",
       "    </tr>\n",
       "    <tr>\n",
       "      <th>6</th>\n",
       "      <td>Computer and Information Sciences and Support ...</td>\n",
       "      <td>79736</td>\n",
       "      <td>0.04</td>\n",
       "      <td>1156</td>\n",
       "      <td>571</td>\n",
       "      <td>585</td>\n",
       "    </tr>\n",
       "    <tr>\n",
       "      <th>22</th>\n",
       "      <td>Multi/Interdisciplinary Studies</td>\n",
       "      <td>2979</td>\n",
       "      <td>0.00</td>\n",
       "      <td>1155</td>\n",
       "      <td>581</td>\n",
       "      <td>574</td>\n",
       "    </tr>\n",
       "  </tbody>\n",
       "</table>\n",
       "</div>"
      ],
      "text/plain": [
       "                               intended_college_major  test_takers  percent  \\\n",
       "19                         Mathematics and Statistics        16508     0.01   \n",
       "27                                  Physical Sciences        26318     0.01   \n",
       "32                                    Social Sciences        33356     0.02   \n",
       "6   Computer and Information Sciences and Support ...        79736     0.04   \n",
       "22                    Multi/Interdisciplinary Studies         2979     0.00   \n",
       "\n",
       "    total  reading_writing  math  \n",
       "19   1242              597   646  \n",
       "27   1203              597   606  \n",
       "32   1164              594   570  \n",
       "6    1156              571   585  \n",
       "22   1155              581   574  "
      ]
     },
     "execution_count": 80,
     "metadata": {},
     "output_type": "execute_result"
    }
   ],
   "source": [
    "intended_majors.loc[:, ['intended_college_major','test_takers', 'percent',\n",
    "        'total', 'reading_writing', 'math'\n",
    "        ]].sort_values('total', ascending= False).head(5)"
   ]
  },
  {
   "cell_type": "markdown",
   "metadata": {},
   "source": [
    "The Mathematics and Statistics major is the one with the highest average total SAT score.\n",
    "These are mostly STEM related majors like physical science and computer science.\n",
    "It requires a lot of work which is why they have the highest average of SAT scores."
   ]
  },
  {
   "cell_type": "markdown",
   "metadata": {},
   "source": [
    "What if you are not into math ?\n",
    "What are the majors with the highest average of reading and writing SAT scores ?"
   ]
  },
  {
   "cell_type": "code",
   "execution_count": 81,
   "metadata": {},
   "outputs": [
    {
     "data": {
      "text/html": [
       "<div>\n",
       "<style scoped>\n",
       "    .dataframe tbody tr th:only-of-type {\n",
       "        vertical-align: middle;\n",
       "    }\n",
       "\n",
       "    .dataframe tbody tr th {\n",
       "        vertical-align: top;\n",
       "    }\n",
       "\n",
       "    .dataframe thead th {\n",
       "        text-align: right;\n",
       "    }\n",
       "</style>\n",
       "<table border=\"1\" class=\"dataframe\">\n",
       "  <thead>\n",
       "    <tr style=\"text-align: right;\">\n",
       "      <th></th>\n",
       "      <th>intended_college_major</th>\n",
       "      <th>test_takers</th>\n",
       "      <th>percent</th>\n",
       "      <th>total</th>\n",
       "      <th>reading_writing</th>\n",
       "      <th>math</th>\n",
       "    </tr>\n",
       "  </thead>\n",
       "  <tbody>\n",
       "    <tr>\n",
       "      <th>19</th>\n",
       "      <td>Mathematics and Statistics</td>\n",
       "      <td>16508</td>\n",
       "      <td>0.01</td>\n",
       "      <td>1242</td>\n",
       "      <td>597</td>\n",
       "      <td>646</td>\n",
       "    </tr>\n",
       "    <tr>\n",
       "      <th>27</th>\n",
       "      <td>Physical Sciences</td>\n",
       "      <td>26318</td>\n",
       "      <td>0.01</td>\n",
       "      <td>1203</td>\n",
       "      <td>597</td>\n",
       "      <td>606</td>\n",
       "    </tr>\n",
       "    <tr>\n",
       "      <th>32</th>\n",
       "      <td>Social Sciences</td>\n",
       "      <td>33356</td>\n",
       "      <td>0.02</td>\n",
       "      <td>1164</td>\n",
       "      <td>594</td>\n",
       "      <td>570</td>\n",
       "    </tr>\n",
       "    <tr>\n",
       "      <th>11</th>\n",
       "      <td>English Language and Literature/Letters</td>\n",
       "      <td>16233</td>\n",
       "      <td>0.01</td>\n",
       "      <td>1119</td>\n",
       "      <td>585</td>\n",
       "      <td>533</td>\n",
       "    </tr>\n",
       "    <tr>\n",
       "      <th>17</th>\n",
       "      <td>Liberal Arts and Sciences, General Studies and...</td>\n",
       "      <td>8611</td>\n",
       "      <td>0.00</td>\n",
       "      <td>1140</td>\n",
       "      <td>584</td>\n",
       "      <td>556</td>\n",
       "    </tr>\n",
       "  </tbody>\n",
       "</table>\n",
       "</div>"
      ],
      "text/plain": [
       "                               intended_college_major  test_takers  percent  \\\n",
       "19                         Mathematics and Statistics        16508     0.01   \n",
       "27                                  Physical Sciences        26318     0.01   \n",
       "32                                    Social Sciences        33356     0.02   \n",
       "11            English Language and Literature/Letters        16233     0.01   \n",
       "17  Liberal Arts and Sciences, General Studies and...         8611     0.00   \n",
       "\n",
       "    total  reading_writing  math  \n",
       "19   1242              597   646  \n",
       "27   1203              597   606  \n",
       "32   1164              594   570  \n",
       "11   1119              585   533  \n",
       "17   1140              584   556  "
      ]
     },
     "execution_count": 81,
     "metadata": {},
     "output_type": "execute_result"
    }
   ],
   "source": [
    "intended_majors.loc[:, ['intended_college_major','test_takers', 'percent',\n",
    "        'total', 'reading_writing', 'math'\n",
    "        ]].sort_values('reading_writing', ascending= False).head(5)"
   ]
  },
  {
   "cell_type": "markdown",
   "metadata": {},
   "source": [
    "The Mathematics and Statistics major is the one with the highest average of reading and writing SAT score.\n",
    "English/Litterature and Liberal Arts are only coming up third showing that you have to be an all around student in order to get a good SAT score even if your desired major is not science related !"
   ]
  },
  {
   "cell_type": "markdown",
   "metadata": {},
   "source": [
    "# Data Visualisation"
   ]
  },
  {
   "cell_type": "markdown",
   "metadata": {},
   "source": [
    "I'm interested in the relationship SAT 75th percentile and number of applicants.\n",
    "Let's represent it with a scatter plot:"
   ]
  },
  {
   "cell_type": "code",
   "execution_count": 82,
   "metadata": {},
   "outputs": [
    {
     "data": {
      "image/png": "[encoded data removed]",
      "text/plain": [
       "<Figure size 864x576 with 1 Axes>"
      ]
     },
     "metadata": {
      "needs_background": "light"
     },
     "output_type": "display_data"
    }
   ],
   "source": [
    "plt.figure(figsize=(12, 8))\n",
    "plt.scatter( college_set['accept_rate'], college_set['sat_total_75th_percentile'], color = \"red\")\n",
    "plt.title('Acceptance Rate vs SAT 75th percentile ', fontsize=20)\n",
    "plt.ylabel('SAT 75th percentile score', fontsize = 15)\n",
    "plt.xlabel('Acceptance rate', fontsize = 15);"
   ]
  },
  {
   "cell_type": "markdown",
   "metadata": {},
   "source": [
    "The colleges with the lowest acceptance rate also have the highest SAT 75th percentile scores.\n",
    "Colleges with higher acceptance rate haver lower 75th percentile scores."
   ]
  },
  {
   "cell_type": "markdown",
   "metadata": {},
   "source": [
    "What is the distribution of the colleges SAT 75th percentile scores ?\n",
    "Let's represent it with a histogram :"
   ]
  },
  {
   "cell_type": "code",
   "execution_count": 83,
   "metadata": {},
   "outputs": [
    {
     "data": {
      "image/png": "[encoded data removed]",
      "text/plain": [
       "<Figure size 432x288 with 1 Axes>"
      ]
     },
     "metadata": {
      "needs_background": "light"
     },
     "output_type": "display_data"
    }
   ],
   "source": [
    "sns.histplot(data = college_set , x = \"sat_total_75th_percentile\")\n",
    "plt.title('Distribution of the SAT 75th percentile score');"
   ]
  },
  {
   "cell_type": "markdown",
   "metadata": {},
   "source": [
    "Most values are between 1250 and 1400. The mean of these scores is 13560. Students would be in Jeopardy with a SAT score lower than 1200."
   ]
  },
  {
   "cell_type": "markdown",
   "metadata": {},
   "source": [
    "Let's observe the distribution of the colleges ACT 75th percentile scores:"
   ]
  },
  {
   "cell_type": "code",
   "execution_count": 84,
   "metadata": {
    "scrolled": true
   },
   "outputs": [
    {
     "data": {
      "image/png": "[encoded data removed]",
      "text/plain": [
       "<Figure size 432x288 with 1 Axes>"
      ]
     },
     "metadata": {
      "needs_background": "light"
     },
     "output_type": "display_data"
    }
   ],
   "source": [
    "sns.histplot(data = college_set , x = \"act_total_75th_percentile\")\n",
    "plt.title('Distribution of the ACT 75th percentile score');"
   ]
  },
  {
   "cell_type": "markdown",
   "metadata": {},
   "source": [
    "The highest value is 30 and most scores are between 28.75 and 33.75.\n",
    "The average of the ACT 75th percentile score is 29.9.\n",
    "Any score below 25-26 would put a student in jeopardy."
   ]
  },
  {
   "cell_type": "markdown",
   "metadata": {},
   "source": [
    "Let's observe the college majors with the most test takers with a bar chart :"
   ]
  },
  {
   "cell_type": "code",
   "execution_count": 85,
   "metadata": {},
   "outputs": [],
   "source": [
    "popular_majors = intended_majors.loc[:, ['intended_college_major','test_takers', 'percent',\n",
    "        'total', 'reading_writing', 'math'\n",
    "        ]].sort_values('percent', ascending= False).head(5)"
   ]
  },
  {
   "cell_type": "code",
   "execution_count": 95,
   "metadata": {},
   "outputs": [
    {
     "data": {
      "image/png": "[encoded data removed]",
      "text/plain": [
       "<Figure size 864x576 with 1 Axes>"
      ]
     },
     "metadata": {
      "needs_background": "light"
     },
     "output_type": "display_data"
    }
   ],
   "source": [
    "plt.figure(figsize=(12, 8))\n",
    "plt.title('The 5 Most Popular College Majors', fontsize=20)\n",
    "plt.barh(popular_majors['intended_college_major'], popular_majors['test_takers'])\n",
    "plt.xlabel('Test Takers', fontsize=15)\n",
    "plt.ylabel('College Majors', fontsize=15);"
   ]
  },
  {
   "cell_type": "markdown",
   "metadata": {},
   "source": [
    "These five majors account to 56% of the test takers. They clearly are the most poupular.\n",
    "The majority of the test takers are mostly interested in STEM and businees studies"
   ]
  },
  {
   "cell_type": "markdown",
   "metadata": {},
   "source": [
    "# Conclusions and Recommendations"
   ]
  },
  {
   "cell_type": "markdown",
   "metadata": {},
   "source": [
    "The majority of the colleges studied in this analysis have an optional test policy and only 6% of these colleges required a test for admission. \n",
    "\n",
    "Even though these standardized test are no longer mandatory going forward; I would still advise students to take the test to increase their chance to reach their desired colleges and majors.\n",
    "Especially for those wanting to go to California; where the colleges have the most applicant.\n",
    "\n",
    "I would also tell them to focus on the 75th percentile of the school they want to get into to have the most chance to get in.\n",
    "95% of the SAT 75th percentile score  for the colleges are between 1136.8 and 1582.4 and between 23.6 and 36.2.\n",
    "\n",
    "I would advise any applicants to reach for a minimum of 1200 for the SAT and 24 for the ACT combined score.\n",
    "STEM and Business majors have the most applicants and the highest SAT/ACT scores in math and reading.\n",
    "\n",
    "I would advise students to have good score across discipline even if you're not interested in a science or business major as math is an important part of the test.\n"
   ]
  }
 ],
 "metadata": {
  "kernelspec": {
   "display_name": "Python 3",
   "language": "python",
   "name": "python3"
  },
  "language_info": {
   "codemirror_mode": {
    "name": "ipython",
    "version": 3
   },
   "file_extension": ".py",
   "mimetype": "text/x-python",
   "name": "python",
   "nbconvert_exporter": "python",
   "pygments_lexer": "ipython3",
   "version": "3.8.5"
  }
 },
 "nbformat": 4,
 "nbformat_minor": 4
}
